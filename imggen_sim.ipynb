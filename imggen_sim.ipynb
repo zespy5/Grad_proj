{
 "cells": [
  {
   "cell_type": "code",
   "execution_count": 1,
   "metadata": {},
   "outputs": [],
   "source": [
    "import os\n",
    "import random\n",
    "import numpy as np\n",
    "import torch\n",
    "from fashion_clip.fashion_clip import FashionCLIP\n",
    "import pandas as pd\n",
    "\n",
    "def seed_everything(seed: int = 42):\n",
    "    random.seed(seed)\n",
    "    np.random.seed(seed)\n",
    "    os.environ[\"PYTHONHASHSEED\"] = str(seed)\n",
    "    torch.manual_seed(seed)\n",
    "    torch.cuda.manual_seed(seed)  # type: ignore\n",
    "    torch.backends.cudnn.deterministic = True  # type: ignore\n",
    "    torch.backends.cudnn.benchmark = True  # type: ignore\n",
    "    \n",
    "seed_everything(42)\n",
    "\n",
    "item_df = pd.read_csv(\"./data/articles.csv\")\n",
    "\n",
    "# fclip = FashionCLIP('fashion-clip')"
   ]
  },
  {
   "cell_type": "code",
   "execution_count": 2,
   "metadata": {},
   "outputs": [],
   "source": [
    "original_img_path = \"./data/images\"\n",
    "original_img_path_withid = [os.path.join(original_img_path, id) for id in os.listdir(original_img_path)]\n",
    "original_img_path_withid = [[os.path.join(target_path, p) for p in os.listdir(target_path)] for target_path in original_img_path_withid]"
   ]
  },
  {
   "cell_type": "code",
   "execution_count": 3,
   "metadata": {},
   "outputs": [],
   "source": [
    "original_img_path_withid = [\n",
    "    p_1\n",
    "    for p in original_img_path_withid\n",
    "    for p_1 in p\n",
    "]"
   ]
  },
  {
   "cell_type": "code",
   "execution_count": 4,
   "metadata": {},
   "outputs": [
    {
     "data": {
      "text/plain": [
       "105100"
      ]
     },
     "execution_count": 4,
     "metadata": {},
     "output_type": "execute_result"
    }
   ],
   "source": [
    "len(original_img_path_withid)"
   ]
  },
  {
   "cell_type": "code",
   "execution_count": 5,
   "metadata": {},
   "outputs": [],
   "source": [
    "# gen_data_path = \"../dataset_fashion/images\"\n",
    "# os.listdir(gen_data_path)"
   ]
  },
  {
   "cell_type": "code",
   "execution_count": 6,
   "metadata": {},
   "outputs": [],
   "source": [
    "# image_embeddings = fclip.encode_images(original_img_path_withid, batch_size=16)"
   ]
  },
  {
   "cell_type": "code",
   "execution_count": 7,
   "metadata": {},
   "outputs": [],
   "source": [
    "# with open('original_emb.npy', 'wb') as f:\n",
    "#     np.save(f, image_embeddings)"
   ]
  },
  {
   "cell_type": "code",
   "execution_count": 8,
   "metadata": {},
   "outputs": [],
   "source": [
    "with open('original_emb.npy', 'rb') as f:\n",
    "    image_embeddings = np.load(f)"
   ]
  },
  {
   "cell_type": "code",
   "execution_count": 9,
   "metadata": {},
   "outputs": [
    {
     "name": "stdout",
     "output_type": "stream",
     "text": [
      "105100\n",
      "(105100, 512)\n"
     ]
    }
   ],
   "source": [
    "print(len(original_img_path_withid))\n",
    "print(image_embeddings.shape)"
   ]
  },
  {
   "cell_type": "code",
   "execution_count": 10,
   "metadata": {},
   "outputs": [],
   "source": [
    "for a, b in zip(original_img_path_withid[:-1], original_img_path_withid[1:]):\n",
    "    if a > b:\n",
    "        print(\"not sorted\")\n",
    "        break"
   ]
  },
  {
   "cell_type": "code",
   "execution_count": 11,
   "metadata": {},
   "outputs": [],
   "source": [
    "embedding_list = os.listdir(\"../dataset_fashion/embeddings\")"
   ]
  },
  {
   "cell_type": "code",
   "execution_count": 12,
   "metadata": {},
   "outputs": [
    {
     "name": "stderr",
     "output_type": "stream",
     "text": [
      "  0%|          | 0/62898 [00:00<?, ?it/s]"
     ]
    },
    {
     "name": "stderr",
     "output_type": "stream",
     "text": [
      "100%|██████████| 62898/62898 [00:41<00:00, 1499.86it/s]\n"
     ]
    }
   ],
   "source": [
    "from tqdm import tqdm\n",
    "\n",
    "gen_ids = [id[:-4] for id in embedding_list]\n",
    "original_ids = [id[-13:-4] for id in original_img_path_withid]\n",
    "indices = []\n",
    "gen_ids_hasimg = []\n",
    "\n",
    "for id in tqdm(gen_ids):\n",
    "    try:\n",
    "        indices.append(original_ids.index(id))\n",
    "        gen_ids_hasimg.append(id)\n",
    "    except ValueError:\n",
    "        pass"
   ]
  },
  {
   "cell_type": "code",
   "execution_count": 13,
   "metadata": {},
   "outputs": [
    {
     "data": {
      "text/plain": [
       "(62732, 512)"
      ]
     },
     "execution_count": 13,
     "metadata": {},
     "output_type": "execute_result"
    }
   ],
   "source": [
    "image_embeddings[indices].shape"
   ]
  },
  {
   "cell_type": "code",
   "execution_count": 14,
   "metadata": {},
   "outputs": [
    {
     "data": {
      "text/plain": [
       "62732"
      ]
     },
     "execution_count": 14,
     "metadata": {},
     "output_type": "execute_result"
    }
   ],
   "source": [
    "len(gen_ids_hasimg)"
   ]
  },
  {
   "cell_type": "code",
   "execution_count": 15,
   "metadata": {},
   "outputs": [
    {
     "name": "stderr",
     "output_type": "stream",
     "text": [
      "C:\\Users\\lijm1\\AppData\\Local\\Temp\\ipykernel_7052\\3138366550.py:2: SettingWithCopyWarning: \n",
      "A value is trying to be set on a copy of a slice from a DataFrame.\n",
      "Try using .loc[row_indexer,col_indexer] = value instead\n",
      "\n",
      "See the caveats in the documentation: https://pandas.pydata.org/pandas-docs/stable/user_guide/indexing.html#returning-a-view-versus-a-copy\n",
      "  available_items[\"detail_desc\"] = available_items[\"detail_desc\"].fillna(\"blank\")\n"
     ]
    }
   ],
   "source": [
    "available_items = item_df[item_df[\"article_id\"].isin([int(id) for id in gen_ids_hasimg])]\n",
    "available_items[\"detail_desc\"] = available_items[\"detail_desc\"].fillna(\"blank\")\n",
    "prompt_list = available_items[\"detail_desc\"]\n",
    "prompt_list = prompt_list.tolist()"
   ]
  },
  {
   "cell_type": "code",
   "execution_count": 16,
   "metadata": {},
   "outputs": [],
   "source": [
    "fclip = FashionCLIP('fashion-clip')"
   ]
  },
  {
   "cell_type": "code",
   "execution_count": 17,
   "metadata": {},
   "outputs": [
    {
     "data": {
      "application/vnd.jupyter.widget-view+json": {
       "model_id": "da32814762164718b7df10f01fdb3388",
       "version_major": 2,
       "version_minor": 0
      },
      "text/plain": [
       "Map:   0%|          | 0/62732 [00:00<?, ? examples/s]"
      ]
     },
     "metadata": {},
     "output_type": "display_data"
    },
    {
     "name": "stderr",
     "output_type": "stream",
     "text": [
      "246it [00:33,  7.28it/s]                         \n"
     ]
    }
   ],
   "source": [
    "text_embeddings = fclip.encode_text(text=prompt_list, batch_size=256)"
   ]
  },
  {
   "cell_type": "code",
   "execution_count": 18,
   "metadata": {},
   "outputs": [],
   "source": [
    "gen_embedding_paths = [os.path.join(\"../dataset_fashion/embeddings\", id+\".pth\") for id in gen_ids_hasimg]"
   ]
  },
  {
   "cell_type": "code",
   "execution_count": 19,
   "metadata": {},
   "outputs": [
    {
     "name": "stderr",
     "output_type": "stream",
     "text": [
      "100%|██████████| 62732/62732 [04:26<00:00, 235.38it/s] \n"
     ]
    }
   ],
   "source": [
    "gen_embeddings = []\n",
    "for path in tqdm(gen_embedding_paths):\n",
    "    gen_embeddings.append(torch.load(path))"
   ]
  },
  {
   "cell_type": "code",
   "execution_count": 20,
   "metadata": {},
   "outputs": [],
   "source": [
    "gen_embeddings_tensor = np.array(gen_embeddings)\n",
    "gen_embeddings_tensor = torch.tensor(gen_embeddings_tensor).half().to(\"cuda\")\n",
    "\n",
    "gen_embeddings_1 = gen_embeddings_tensor[:, 0, :]\n",
    "gen_embeddings_2 = gen_embeddings_tensor[:, 1, :]\n",
    "gen_embeddings_3 = gen_embeddings_tensor[:, 2, :]"
   ]
  },
  {
   "cell_type": "code",
   "execution_count": 21,
   "metadata": {},
   "outputs": [],
   "source": [
    "original_embedding_tensor = torch.tensor(image_embeddings[indices]).half().to(\"cuda\")"
   ]
  },
  {
   "cell_type": "code",
   "execution_count": 22,
   "metadata": {},
   "outputs": [],
   "source": [
    "text_embeddings_tensor = torch.tensor(text_embeddings).half().to(\"cuda\")"
   ]
  },
  {
   "cell_type": "code",
   "execution_count": 23,
   "metadata": {},
   "outputs": [
    {
     "data": {
      "text/plain": [
       "torch.Size([62732, 512])"
      ]
     },
     "execution_count": 23,
     "metadata": {},
     "output_type": "execute_result"
    }
   ],
   "source": [
    "original_embedding_tensor.shape # 원본 이미지 embedding"
   ]
  },
  {
   "cell_type": "code",
   "execution_count": 24,
   "metadata": {},
   "outputs": [
    {
     "data": {
      "text/plain": [
       "torch.Size([62732, 512])"
      ]
     },
     "execution_count": 24,
     "metadata": {},
     "output_type": "execute_result"
    }
   ],
   "source": [
    "gen_embeddings_1.shape  # 생성 이미지 embedding\n",
    "gen_embeddings_2.shape\n",
    "gen_embeddings_3.shape"
   ]
  },
  {
   "cell_type": "code",
   "execution_count": 25,
   "metadata": {},
   "outputs": [
    {
     "data": {
      "text/plain": [
       "torch.Size([62732, 512])"
      ]
     },
     "execution_count": 25,
     "metadata": {},
     "output_type": "execute_result"
    }
   ],
   "source": [
    "text_embeddings_tensor.shape    # 텍스트 embedding"
   ]
  },
  {
   "cell_type": "code",
   "execution_count": 26,
   "metadata": {},
   "outputs": [
    {
     "name": "stdout",
     "output_type": "stream",
     "text": [
      "62732\n",
      "['108775015', '108775044', '108775051', '110065001', '110065002']\n"
     ]
    }
   ],
   "source": [
    "# target item ids\n",
    "print(len(gen_ids_hasimg))\n",
    "print(gen_ids_hasimg[:5])"
   ]
  },
  {
   "cell_type": "code",
   "execution_count": 27,
   "metadata": {},
   "outputs": [
    {
     "name": "stdout",
     "output_type": "stream",
     "text": [
      "mean : 0.59130859375, std : 0.0819091796875\n"
     ]
    },
    {
     "data": {
      "text/plain": [
       "<seaborn.axisgrid.FacetGrid at 0x16b3ec6f6d0>"
      ]
     },
     "execution_count": 27,
     "metadata": {},
     "output_type": "execute_result"
    },
    {
     "data": {
      "image/png": "[encoded data removed]",
      "text/plain": [
       "<Figure size 500x500 with 1 Axes>"
      ]
     },
     "metadata": {},
     "output_type": "display_data"
    }
   ],
   "source": [
    "from torch.nn import CosineSimilarity\n",
    "import matplotlib.pyplot as plt\n",
    "import seaborn as sns\n",
    "\n",
    "cos_img_gen = CosineSimilarity(dim=1)(original_embedding_tensor, gen_embeddings_1)\n",
    "print(f\"mean : {torch.mean(cos_img_gen)}, std : {torch.std(cos_img_gen)}\")\n",
    "sns.displot(cos_img_gen.cpu())"
   ]
  },
  {
   "cell_type": "code",
   "execution_count": 28,
   "metadata": {},
   "outputs": [
    {
     "name": "stdout",
     "output_type": "stream",
     "text": [
      "mean : 0.32958984375, std : 0.0308074951171875\n"
     ]
    },
    {
     "data": {
      "text/plain": [
       "<seaborn.axisgrid.FacetGrid at 0x16b45586380>"
      ]
     },
     "execution_count": 28,
     "metadata": {},
     "output_type": "execute_result"
    },
    {
     "data": {
      "image/png": "[encoded data removed]",
      "text/plain": [
       "<Figure size 500x500 with 1 Axes>"
      ]
     },
     "metadata": {},
     "output_type": "display_data"
    }
   ],
   "source": [
    "cos_txt_gen = CosineSimilarity(dim=1)(text_embeddings_tensor, gen_embeddings_1)\n",
    "print(f\"mean : {torch.mean(cos_txt_gen)}, std : {torch.std(cos_txt_gen)}\")\n",
    "sns.displot(cos_txt_gen.cpu())"
   ]
  },
  {
   "cell_type": "code",
   "execution_count": 29,
   "metadata": {},
   "outputs": [
    {
     "name": "stdout",
     "output_type": "stream",
     "text": [
      "mean : 0.329833984375, std : 0.034454345703125\n"
     ]
    },
    {
     "data": {
      "text/plain": [
       "<seaborn.axisgrid.FacetGrid at 0x16c305e7970>"
      ]
     },
     "execution_count": 29,
     "metadata": {},
     "output_type": "execute_result"
    },
    {
     "data": {
      "image/png": "[encoded data removed]",
      "text/plain": [
       "<Figure size 500x500 with 1 Axes>"
      ]
     },
     "metadata": {},
     "output_type": "display_data"
    }
   ],
   "source": [
    "cos_img_txt = CosineSimilarity(dim=1)(original_embedding_tensor, text_embeddings_tensor)\n",
    "print(f\"mean : {torch.mean(cos_img_txt)}, std : {torch.std(cos_img_txt)}\")\n",
    "sns.displot(cos_img_txt.cpu())"
   ]
  },
  {
   "cell_type": "code",
   "execution_count": 30,
   "metadata": {},
   "outputs": [
    {
     "name": "stderr",
     "output_type": "stream",
     "text": [
      "C:\\Users\\lijm1\\AppData\\Local\\Temp\\ipykernel_7052\\797446436.py:1: UserWarning: \n",
      "\n",
      "`distplot` is a deprecated function and will be removed in seaborn v0.14.0.\n",
      "\n",
      "Please adapt your code to use either `displot` (a figure-level function with\n",
      "similar flexibility) or `kdeplot` (an axes-level function for kernel density plots).\n",
      "\n",
      "For a guide to updating your code to use the new functions, please see\n",
      "https://gist.github.com/mwaskom/de44147ed2974457ad6372750bbe5751\n",
      "\n",
      "  sns.distplot(cos_img_gen.cpu(), hist=False, label=\"image-genimg\")\n",
      "C:\\Users\\lijm1\\AppData\\Local\\Temp\\ipykernel_7052\\797446436.py:2: UserWarning: \n",
      "\n",
      "`distplot` is a deprecated function and will be removed in seaborn v0.14.0.\n",
      "\n",
      "Please adapt your code to use either `displot` (a figure-level function with\n",
      "similar flexibility) or `kdeplot` (an axes-level function for kernel density plots).\n",
      "\n",
      "For a guide to updating your code to use the new functions, please see\n",
      "https://gist.github.com/mwaskom/de44147ed2974457ad6372750bbe5751\n",
      "\n",
      "  sns.distplot(cos_txt_gen.cpu(), hist=False, label=\"text-genimg\")\n",
      "C:\\Users\\lijm1\\AppData\\Local\\Temp\\ipykernel_7052\\797446436.py:3: UserWarning: \n",
      "\n",
      "`distplot` is a deprecated function and will be removed in seaborn v0.14.0.\n",
      "\n",
      "Please adapt your code to use either `displot` (a figure-level function with\n",
      "similar flexibility) or `kdeplot` (an axes-level function for kernel density plots).\n",
      "\n",
      "For a guide to updating your code to use the new functions, please see\n",
      "https://gist.github.com/mwaskom/de44147ed2974457ad6372750bbe5751\n",
      "\n",
      "  sns.distplot(cos_img_txt.cpu(), hist=False, label=\"image-text\")\n"
     ]
    },
    {
     "data": {
      "image/png": "[encoded data removed]",
      "text/plain": [
       "<Figure size 640x480 with 1 Axes>"
      ]
     },
     "metadata": {},
     "output_type": "display_data"
    }
   ],
   "source": [
    "sns.distplot(cos_img_gen.cpu(), hist=False, label=\"image-genimg\")\n",
    "sns.distplot(cos_txt_gen.cpu(), hist=False, label=\"text-genimg\")\n",
    "sns.distplot(cos_img_txt.cpu(), hist=False, label=\"image-text\")\n",
    "plt.legend()\n",
    "plt.show()"
   ]
  },
  {
   "cell_type": "markdown",
   "metadata": {},
   "source": [
    "----------"
   ]
  },
  {
   "cell_type": "code",
   "execution_count": 31,
   "metadata": {},
   "outputs": [
    {
     "data": {
      "text/html": [
       "<div>\n",
       "<style scoped>\n",
       "    .dataframe tbody tr th:only-of-type {\n",
       "        vertical-align: middle;\n",
       "    }\n",
       "\n",
       "    .dataframe tbody tr th {\n",
       "        vertical-align: top;\n",
       "    }\n",
       "\n",
       "    .dataframe thead th {\n",
       "        text-align: right;\n",
       "    }\n",
       "</style>\n",
       "<table border=\"1\" class=\"dataframe\">\n",
       "  <thead>\n",
       "    <tr style=\"text-align: right;\">\n",
       "      <th></th>\n",
       "      <th>prod_name</th>\n",
       "      <th>product_type_name</th>\n",
       "      <th>product_group_name</th>\n",
       "      <th>department_name</th>\n",
       "      <th>index_name</th>\n",
       "      <th>index_group_name</th>\n",
       "      <th>section_name</th>\n",
       "      <th>garment_group_name</th>\n",
       "    </tr>\n",
       "  </thead>\n",
       "  <tbody>\n",
       "    <tr>\n",
       "      <th>0</th>\n",
       "      <td>Strap top</td>\n",
       "      <td>Vest top</td>\n",
       "      <td>Garment Upper body</td>\n",
       "      <td>Jersey Basic</td>\n",
       "      <td>Ladieswear</td>\n",
       "      <td>Ladieswear</td>\n",
       "      <td>Womens Everyday Basics</td>\n",
       "      <td>Jersey Basic</td>\n",
       "    </tr>\n",
       "    <tr>\n",
       "      <th>1</th>\n",
       "      <td>Strap top</td>\n",
       "      <td>Vest top</td>\n",
       "      <td>Garment Upper body</td>\n",
       "      <td>Jersey Basic</td>\n",
       "      <td>Ladieswear</td>\n",
       "      <td>Ladieswear</td>\n",
       "      <td>Womens Everyday Basics</td>\n",
       "      <td>Jersey Basic</td>\n",
       "    </tr>\n",
       "    <tr>\n",
       "      <th>2</th>\n",
       "      <td>Strap top (1)</td>\n",
       "      <td>Vest top</td>\n",
       "      <td>Garment Upper body</td>\n",
       "      <td>Jersey Basic</td>\n",
       "      <td>Ladieswear</td>\n",
       "      <td>Ladieswear</td>\n",
       "      <td>Womens Everyday Basics</td>\n",
       "      <td>Jersey Basic</td>\n",
       "    </tr>\n",
       "    <tr>\n",
       "      <th>3</th>\n",
       "      <td>OP T-shirt (Idro)</td>\n",
       "      <td>Bra</td>\n",
       "      <td>Underwear</td>\n",
       "      <td>Clean Lingerie</td>\n",
       "      <td>Lingeries/Tights</td>\n",
       "      <td>Ladieswear</td>\n",
       "      <td>Womens Lingerie</td>\n",
       "      <td>Under-, Nightwear</td>\n",
       "    </tr>\n",
       "    <tr>\n",
       "      <th>4</th>\n",
       "      <td>OP T-shirt (Idro)</td>\n",
       "      <td>Bra</td>\n",
       "      <td>Underwear</td>\n",
       "      <td>Clean Lingerie</td>\n",
       "      <td>Lingeries/Tights</td>\n",
       "      <td>Ladieswear</td>\n",
       "      <td>Womens Lingerie</td>\n",
       "      <td>Under-, Nightwear</td>\n",
       "    </tr>\n",
       "    <tr>\n",
       "      <th>...</th>\n",
       "      <td>...</td>\n",
       "      <td>...</td>\n",
       "      <td>...</td>\n",
       "      <td>...</td>\n",
       "      <td>...</td>\n",
       "      <td>...</td>\n",
       "      <td>...</td>\n",
       "      <td>...</td>\n",
       "    </tr>\n",
       "    <tr>\n",
       "      <th>105537</th>\n",
       "      <td>5pk regular Placement1</td>\n",
       "      <td>Socks</td>\n",
       "      <td>Socks &amp; Tights</td>\n",
       "      <td>Socks Bin</td>\n",
       "      <td>Menswear</td>\n",
       "      <td>Menswear</td>\n",
       "      <td>Men Underwear</td>\n",
       "      <td>Socks and Tights</td>\n",
       "    </tr>\n",
       "    <tr>\n",
       "      <th>105538</th>\n",
       "      <td>SPORT Malaga tank</td>\n",
       "      <td>Vest top</td>\n",
       "      <td>Garment Upper body</td>\n",
       "      <td>Jersey</td>\n",
       "      <td>Ladieswear</td>\n",
       "      <td>Ladieswear</td>\n",
       "      <td>H&amp;M+</td>\n",
       "      <td>Jersey Fancy</td>\n",
       "    </tr>\n",
       "    <tr>\n",
       "      <th>105539</th>\n",
       "      <td>Cartwheel dress</td>\n",
       "      <td>Dress</td>\n",
       "      <td>Garment Full body</td>\n",
       "      <td>Jersey</td>\n",
       "      <td>Ladieswear</td>\n",
       "      <td>Ladieswear</td>\n",
       "      <td>Womens Trend</td>\n",
       "      <td>Jersey Fancy</td>\n",
       "    </tr>\n",
       "    <tr>\n",
       "      <th>105540</th>\n",
       "      <td>CLAIRE HAIR CLAW</td>\n",
       "      <td>Hair clip</td>\n",
       "      <td>Accessories</td>\n",
       "      <td>Small Accessories</td>\n",
       "      <td>Divided</td>\n",
       "      <td>Divided</td>\n",
       "      <td>Divided Accessories</td>\n",
       "      <td>Accessories</td>\n",
       "    </tr>\n",
       "    <tr>\n",
       "      <th>105541</th>\n",
       "      <td>Lounge dress</td>\n",
       "      <td>Dress</td>\n",
       "      <td>Garment Full body</td>\n",
       "      <td>Jersey</td>\n",
       "      <td>Ladieswear</td>\n",
       "      <td>Ladieswear</td>\n",
       "      <td>Womens Trend</td>\n",
       "      <td>Jersey Fancy</td>\n",
       "    </tr>\n",
       "  </tbody>\n",
       "</table>\n",
       "<p>105542 rows × 8 columns</p>\n",
       "</div>"
      ],
      "text/plain": [
       "                     prod_name product_type_name  product_group_name  \\\n",
       "0                    Strap top          Vest top  Garment Upper body   \n",
       "1                    Strap top          Vest top  Garment Upper body   \n",
       "2                Strap top (1)          Vest top  Garment Upper body   \n",
       "3            OP T-shirt (Idro)               Bra           Underwear   \n",
       "4            OP T-shirt (Idro)               Bra           Underwear   \n",
       "...                        ...               ...                 ...   \n",
       "105537  5pk regular Placement1             Socks      Socks & Tights   \n",
       "105538       SPORT Malaga tank          Vest top  Garment Upper body   \n",
       "105539         Cartwheel dress             Dress   Garment Full body   \n",
       "105540        CLAIRE HAIR CLAW         Hair clip         Accessories   \n",
       "105541            Lounge dress             Dress   Garment Full body   \n",
       "\n",
       "          department_name        index_name index_group_name  \\\n",
       "0            Jersey Basic        Ladieswear       Ladieswear   \n",
       "1            Jersey Basic        Ladieswear       Ladieswear   \n",
       "2            Jersey Basic        Ladieswear       Ladieswear   \n",
       "3          Clean Lingerie  Lingeries/Tights       Ladieswear   \n",
       "4          Clean Lingerie  Lingeries/Tights       Ladieswear   \n",
       "...                   ...               ...              ...   \n",
       "105537          Socks Bin          Menswear         Menswear   \n",
       "105538             Jersey        Ladieswear       Ladieswear   \n",
       "105539             Jersey        Ladieswear       Ladieswear   \n",
       "105540  Small Accessories           Divided          Divided   \n",
       "105541             Jersey        Ladieswear       Ladieswear   \n",
       "\n",
       "                  section_name garment_group_name  \n",
       "0       Womens Everyday Basics       Jersey Basic  \n",
       "1       Womens Everyday Basics       Jersey Basic  \n",
       "2       Womens Everyday Basics       Jersey Basic  \n",
       "3              Womens Lingerie  Under-, Nightwear  \n",
       "4              Womens Lingerie  Under-, Nightwear  \n",
       "...                        ...                ...  \n",
       "105537           Men Underwear   Socks and Tights  \n",
       "105538                    H&M+       Jersey Fancy  \n",
       "105539            Womens Trend       Jersey Fancy  \n",
       "105540     Divided Accessories        Accessories  \n",
       "105541            Womens Trend       Jersey Fancy  \n",
       "\n",
       "[105542 rows x 8 columns]"
      ]
     },
     "execution_count": 31,
     "metadata": {},
     "output_type": "execute_result"
    }
   ],
   "source": [
    "item_df[[\"prod_name\", \"product_type_name\", \"product_group_name\", \"department_name\", \"index_name\", \"index_group_name\", \"section_name\", \"garment_group_name\"]]"
   ]
  },
  {
   "cell_type": "code",
   "execution_count": 32,
   "metadata": {},
   "outputs": [],
   "source": [
    "def erase_random_word(text):\n",
    "    text_list = text.split()\n",
    "    text_list_erased = [word if np.random.random() > 0.3 else '' for word in text_list]\n",
    "    text_erased = \" \".join(text_list_erased)\n",
    "    text_erased = \" \".join(text_erased.split()) # remove long blank\n",
    "    text_erased += \".\" if len(text_erased) > 1 and text_erased[-1] != \".\" else \"\"\n",
    "    \n",
    "    return text_erased"
   ]
  },
  {
   "cell_type": "code",
   "execution_count": 190,
   "metadata": {},
   "outputs": [],
   "source": [
    "prompt_list_erased = available_items[\"detail_desc\"].apply(erase_random_word)\n",
    "prompt_list_erased = prompt_list_erased + \" \" + available_items[\"product_type_name\"]"
   ]
  },
  {
   "cell_type": "code",
   "execution_count": 198,
   "metadata": {},
   "outputs": [
    {
     "data": {
      "text/plain": [
       "detail_desc\n",
       "14 pairs of metal earrings in various sizes and designs.                                                                                                                       1\n",
       "Knee-length, pleated skirt in a jacquard weave with a high waist and sewn-in wrapover at the front with an asymmetric hem. Concealed zip and button in one side. Unlined.      1\n",
       "Short-sleeved dress in patterned cotton jersey with a gathered seam at the hips and a flared skirt.                                                                            1\n",
       "Knee-length, pleated skirt in woven fabric with a sheen. Regular waist with covered elastication and a drawstring with narrow ties, and an overlocked hem. Unlined.            1\n",
       "Knee-length, pleated skirt in woven fabric with an overlocked hem. Regular waist with covered elastication. Unlined.                                                           1\n",
       "                                                                                                                                                                            ... \n",
       "Round-necked T-shirt in soft cotton jersey.                                                                                                                                   79\n",
       "T-shirt in printed cotton jersey.                                                                                                                                             79\n",
       "T-shirt in soft, printed cotton jersey.                                                                                                                                       83\n",
       "Socks in a soft, jacquard-knit cotton blend with elasticated tops.                                                                                                           107\n",
       "blank                                                                                                                                                                        222\n",
       "Name: detail_desc, Length: 27284, dtype: int64"
      ]
     },
     "execution_count": 198,
     "metadata": {},
     "output_type": "execute_result"
    }
   ],
   "source": [
    "available_items.groupby(\"detail_desc\")[\"detail_desc\"].count().sort_values()"
   ]
  },
  {
   "cell_type": "code",
   "execution_count": 34,
   "metadata": {},
   "outputs": [],
   "source": [
    "items_sameprompt = available_items[available_items[\"detail_desc\"] == \"Socks in a soft, jacquard-knit cotton blend with elasticated tops.\"]"
   ]
  },
  {
   "cell_type": "code",
   "execution_count": 37,
   "metadata": {},
   "outputs": [],
   "source": [
    "items_sameprompt_erased = items_sameprompt[\"detail_desc\"].apply(erase_random_word)\n",
    "items_sameprompt_erased = items_sameprompt_erased + \" \" + items_sameprompt[\"product_type_name\"]"
   ]
  },
  {
   "cell_type": "code",
   "execution_count": 40,
   "metadata": {},
   "outputs": [],
   "source": [
    "# items_sameprompt_erased.to_csv(\"./data/same_prompt_erased.csv\")"
   ]
  },
  {
   "cell_type": "code",
   "execution_count": 41,
   "metadata": {},
   "outputs": [
    {
     "data": {
      "text/plain": [
       "65684          jacquard-knit cotton blend with tops. Socks\n",
       "76049    Socks a soft, jacquard-knit cotton blend elast...\n",
       "76050             Socks in a soft, elasticated tops. Socks\n",
       "76051    in a soft, jacquard-knit blend with elasticate...\n",
       "76052         Socks soft, jacquard-knit cotton with. Socks\n",
       "                               ...                        \n",
       "82080    Socks in soft, cotton blend with elasticated t...\n",
       "82081    Socks in soft, jacquard-knit cotton blend with...\n",
       "90402           soft, jacquard-knit blend with tops. Socks\n",
       "90403    Socks in a soft, jacquard-knit cotton blend el...\n",
       "90404        a soft, jacquard-knit cotton with tops. Socks\n",
       "Length: 107, dtype: object"
      ]
     },
     "execution_count": 41,
     "metadata": {},
     "output_type": "execute_result"
    }
   ],
   "source": [
    "items_sameprompt_erased"
   ]
  },
  {
   "cell_type": "code",
   "execution_count": 42,
   "metadata": {},
   "outputs": [],
   "source": [
    "from diffusers import StableDiffusionPipeline, DPMSolverMultistepScheduler\n",
    "from transformers import CLIPModel, CLIPProcessor"
   ]
  },
  {
   "cell_type": "code",
   "execution_count": 43,
   "metadata": {},
   "outputs": [
    {
     "name": "stderr",
     "output_type": "stream",
     "text": [
      "Cannot initialize model with low cpu memory usage because `accelerate` was not found in the environment. Defaulting to `low_cpu_mem_usage=False`. It is strongly recommended to install `accelerate` for faster and less memory-intense model loading. You can do so with: \n",
      "```\n",
      "pip install accelerate\n",
      "```\n",
      ".\n"
     ]
    },
    {
     "data": {
      "application/vnd.jupyter.widget-view+json": {
       "model_id": "eb5f3107f1394e12bec21d43b1321837",
       "version_major": 2,
       "version_minor": 0
      },
      "text/plain": [
       "model_index.json:   0%|          | 0.00/543 [00:00<?, ?B/s]"
      ]
     },
     "metadata": {},
     "output_type": "display_data"
    },
    {
     "name": "stderr",
     "output_type": "stream",
     "text": [
      "c:\\Users\\lijm1\\miniconda3\\envs\\mlenv\\lib\\site-packages\\huggingface_hub\\file_download.py:149: UserWarning: `huggingface_hub` cache-system uses symlinks by default to efficiently store duplicated files but your machine does not support them in C:\\Users\\lijm1\\.cache\\huggingface\\hub\\models--stabilityai--stable-diffusion-2-1-base. Caching files will still work but in a degraded version that might require more space on your disk. This warning can be disabled by setting the `HF_HUB_DISABLE_SYMLINKS_WARNING` environment variable. For more details, see https://huggingface.co/docs/huggingface_hub/how-to-cache#limitations.\n",
      "To support symlinks on Windows, you either need to activate Developer Mode or to run Python as an administrator. In order to see activate developer mode, see this article: https://docs.microsoft.com/en-us/windows/apps/get-started/enable-your-device-for-development\n",
      "  warnings.warn(message)\n",
      "c:\\Users\\lijm1\\miniconda3\\envs\\mlenv\\lib\\site-packages\\huggingface_hub\\file_download.py:678: FutureWarning: 'cached_download' is the legacy way to download files from the HF hub, please consider upgrading to 'hf_hub_download'\n",
      "  warnings.warn(\n"
     ]
    },
    {
     "data": {
      "application/vnd.jupyter.widget-view+json": {
       "model_id": "e0106899ded2417682a5a8f2b4d9e6d3",
       "version_major": 2,
       "version_minor": 0
      },
      "text/plain": [
       "(…)ommunity/clip_guided_stable_diffusion.py:   0%|          | 0.00/3.97k [00:00<?, ?B/s]"
      ]
     },
     "metadata": {},
     "output_type": "display_data"
    },
    {
     "data": {
      "application/vnd.jupyter.widget-view+json": {
       "model_id": "3d6ca9877e43436fbf2de3fbd4babe9f",
       "version_major": 2,
       "version_minor": 0
      },
      "text/plain": [
       "Fetching 13 files:   0%|          | 0/13 [00:00<?, ?it/s]"
      ]
     },
     "metadata": {},
     "output_type": "display_data"
    },
    {
     "data": {
      "application/vnd.jupyter.widget-view+json": {
       "model_id": "b022e8e6a5ff42ecba1e52a66c662b1c",
       "version_major": 2,
       "version_minor": 0
      },
      "text/plain": [
       "tokenizer/special_tokens_map.json:   0%|          | 0.00/460 [00:00<?, ?B/s]"
      ]
     },
     "metadata": {},
     "output_type": "display_data"
    },
    {
     "data": {
      "application/vnd.jupyter.widget-view+json": {
       "model_id": "d0ece4e3e1f54b7eaa95ce65c4fc1aef",
       "version_major": 2,
       "version_minor": 0
      },
      "text/plain": [
       "(…)ature_extractor/preprocessor_config.json:   0%|          | 0.00/342 [00:00<?, ?B/s]"
      ]
     },
     "metadata": {},
     "output_type": "display_data"
    },
    {
     "data": {
      "application/vnd.jupyter.widget-view+json": {
       "model_id": "98978bacdeaf4bceaf8b4221ab7553ec",
       "version_major": 2,
       "version_minor": 0
      },
      "text/plain": [
       "scheduler/scheduler_config.json:   0%|          | 0.00/346 [00:00<?, ?B/s]"
      ]
     },
     "metadata": {},
     "output_type": "display_data"
    },
    {
     "data": {
      "application/vnd.jupyter.widget-view+json": {
       "model_id": "f82f73cf7a3e43fea5929cf8c9011440",
       "version_major": 2,
       "version_minor": 0
      },
      "text/plain": [
       "text_encoder/config.json:   0%|          | 0.00/613 [00:00<?, ?B/s]"
      ]
     },
     "metadata": {},
     "output_type": "display_data"
    },
    {
     "data": {
      "application/vnd.jupyter.widget-view+json": {
       "model_id": "ea7aadfd8fda4109a8dd48e7098c9a73",
       "version_major": 2,
       "version_minor": 0
      },
      "text/plain": [
       "tokenizer/tokenizer_config.json:   0%|          | 0.00/807 [00:00<?, ?B/s]"
      ]
     },
     "metadata": {},
     "output_type": "display_data"
    },
    {
     "data": {
      "application/vnd.jupyter.widget-view+json": {
       "model_id": "c24e4098c6094db096bea1da53e61dc4",
       "version_major": 2,
       "version_minor": 0
      },
      "text/plain": [
       "tokenizer/merges.txt:   0%|          | 0.00/525k [00:00<?, ?B/s]"
      ]
     },
     "metadata": {},
     "output_type": "display_data"
    },
    {
     "data": {
      "application/vnd.jupyter.widget-view+json": {
       "model_id": "7da65ab19b714bfb917b49c3844d2572",
       "version_major": 2,
       "version_minor": 0
      },
      "text/plain": [
       "tokenizer/vocab.json:   0%|          | 0.00/1.06M [00:00<?, ?B/s]"
      ]
     },
     "metadata": {},
     "output_type": "display_data"
    },
    {
     "data": {
      "application/vnd.jupyter.widget-view+json": {
       "model_id": "1fdc4aac257b4191ae38cf3da8a5de43",
       "version_major": 2,
       "version_minor": 0
      },
      "text/plain": [
       "unet/config.json:   0%|          | 0.00/911 [00:00<?, ?B/s]"
      ]
     },
     "metadata": {},
     "output_type": "display_data"
    },
    {
     "data": {
      "application/vnd.jupyter.widget-view+json": {
       "model_id": "f5b24b3c0e0e42fe842fa0d6ff622971",
       "version_major": 2,
       "version_minor": 0
      },
      "text/plain": [
       "vae/config.json:   0%|          | 0.00/553 [00:00<?, ?B/s]"
      ]
     },
     "metadata": {},
     "output_type": "display_data"
    },
    {
     "data": {
      "application/vnd.jupyter.widget-view+json": {
       "model_id": "6474874e9ebf4cb3874c77c8b6efef4b",
       "version_major": 2,
       "version_minor": 0
      },
      "text/plain": [
       "vae/diffusion_pytorch_model.safetensors:   0%|          | 0.00/335M [00:00<?, ?B/s]"
      ]
     },
     "metadata": {},
     "output_type": "display_data"
    },
    {
     "data": {
      "application/vnd.jupyter.widget-view+json": {
       "model_id": "4b6515e734064a5bafd86b0e82b45991",
       "version_major": 2,
       "version_minor": 0
      },
      "text/plain": [
       "text_encoder/model.safetensors:   0%|          | 0.00/1.36G [00:00<?, ?B/s]"
      ]
     },
     "metadata": {},
     "output_type": "display_data"
    },
    {
     "data": {
      "application/vnd.jupyter.widget-view+json": {
       "model_id": "08c9b058b0e543f893925b5fce201e4c",
       "version_major": 2,
       "version_minor": 0
      },
      "text/plain": [
       "unet/diffusion_pytorch_model.safetensors:   0%|          | 0.00/3.46G [00:00<?, ?B/s]"
      ]
     },
     "metadata": {},
     "output_type": "display_data"
    },
    {
     "name": "stderr",
     "output_type": "stream",
     "text": [
      "Keyword arguments {'safety_checker': None, 'requires_safety_checker': False} are not expected by CLIPGuidedStableDiffusion and will be ignored.\n"
     ]
    },
    {
     "data": {
      "application/vnd.jupyter.widget-view+json": {
       "model_id": "38f41803af8a46be9f21a70107e20738",
       "version_major": 2,
       "version_minor": 0
      },
      "text/plain": [
       "Loading pipeline components...:   0%|          | 0/6 [00:00<?, ?it/s]"
      ]
     },
     "metadata": {},
     "output_type": "display_data"
    }
   ],
   "source": [
    "clip_model = CLIPModel.from_pretrained(\"patrickjohncyh/fashion-clip\")\n",
    "pipe = StableDiffusionPipeline.from_pretrained(\n",
    "    \"stabilityai/stable-diffusion-2-1-base\",\n",
    "    custom_pipeline=\"clip_guided_stable_diffusion\",\n",
    "    torch_dtype = torch.float16,\n",
    "    clip_model = clip_model,\n",
    "    use_safetensors=True,\n",
    "    safety_checker = None,\n",
    "    requires_safety_checker = False,\n",
    ")\n",
    "pipe.scheduler = DPMSolverMultistepScheduler.from_config(pipe.scheduler.config)"
   ]
  },
  {
   "cell_type": "code",
   "execution_count": 44,
   "metadata": {},
   "outputs": [],
   "source": [
    "pipe = pipe.to(\"cuda\")"
   ]
  },
  {
   "cell_type": "code",
   "execution_count": 49,
   "metadata": {},
   "outputs": [
    {
     "data": {
      "text/plain": [
       "65684          jacquard-knit cotton blend with tops. Socks\n",
       "76049    Socks a soft, jacquard-knit cotton blend elast...\n",
       "76050             Socks in a soft, elasticated tops. Socks\n",
       "76051    in a soft, jacquard-knit blend with elasticate...\n",
       "76052         Socks soft, jacquard-knit cotton with. Socks\n",
       "                               ...                        \n",
       "82080    Socks in soft, cotton blend with elasticated t...\n",
       "82081    Socks in soft, jacquard-knit cotton blend with...\n",
       "90402           soft, jacquard-knit blend with tops. Socks\n",
       "90403    Socks in a soft, jacquard-knit cotton blend el...\n",
       "90404        a soft, jacquard-knit cotton with tops. Socks\n",
       "Length: 107, dtype: object"
      ]
     },
     "execution_count": 49,
     "metadata": {},
     "output_type": "execute_result"
    }
   ],
   "source": [
    "items_sameprompt_erased"
   ]
  },
  {
   "cell_type": "code",
   "execution_count": 51,
   "metadata": {},
   "outputs": [
    {
     "name": "stdout",
     "output_type": "stream",
     "text": [
      "(65684, 'jacquard-knit cotton blend with tops. Socks')\n"
     ]
    }
   ],
   "source": [
    "for item in items_sameprompt_erased.items():\n",
    "    print(item)\n",
    "    break"
   ]
  },
  {
   "cell_type": "code",
   "execution_count": 52,
   "metadata": {},
   "outputs": [
    {
     "data": {
      "application/vnd.jupyter.widget-view+json": {
       "model_id": "931596059d714893a0b1105aabcf41b6",
       "version_major": 2,
       "version_minor": 0
      },
      "text/plain": [
       "  0%|          | 0/30 [00:00<?, ?it/s]"
      ]
     },
     "metadata": {},
     "output_type": "display_data"
    },
    {
     "data": {
      "application/vnd.jupyter.widget-view+json": {
       "model_id": "05139561a8dc4d26a387a0ecc0591d06",
       "version_major": 2,
       "version_minor": 0
      },
      "text/plain": [
       "  0%|          | 0/30 [00:00<?, ?it/s]"
      ]
     },
     "metadata": {},
     "output_type": "display_data"
    },
    {
     "data": {
      "application/vnd.jupyter.widget-view+json": {
       "model_id": "0f2525f6699c41b59087ddab5e9c50fb",
       "version_major": 2,
       "version_minor": 0
      },
      "text/plain": [
       "  0%|          | 0/30 [00:00<?, ?it/s]"
      ]
     },
     "metadata": {},
     "output_type": "display_data"
    },
    {
     "data": {
      "application/vnd.jupyter.widget-view+json": {
       "model_id": "42bc6ae0a2094c0394caf0c35a5da229",
       "version_major": 2,
       "version_minor": 0
      },
      "text/plain": [
       "  0%|          | 0/30 [00:00<?, ?it/s]"
      ]
     },
     "metadata": {},
     "output_type": "display_data"
    },
    {
     "data": {
      "application/vnd.jupyter.widget-view+json": {
       "model_id": "5225113bba0c4338a38e24f7d052a576",
       "version_major": 2,
       "version_minor": 0
      },
      "text/plain": [
       "  0%|          | 0/30 [00:00<?, ?it/s]"
      ]
     },
     "metadata": {},
     "output_type": "display_data"
    },
    {
     "data": {
      "application/vnd.jupyter.widget-view+json": {
       "model_id": "fd448a24e3d349c2ba1d2617f85d18d7",
       "version_major": 2,
       "version_minor": 0
      },
      "text/plain": [
       "  0%|          | 0/30 [00:00<?, ?it/s]"
      ]
     },
     "metadata": {},
     "output_type": "display_data"
    },
    {
     "data": {
      "application/vnd.jupyter.widget-view+json": {
       "model_id": "7796004ed74749e7a4061d86e7ef2803",
       "version_major": 2,
       "version_minor": 0
      },
      "text/plain": [
       "  0%|          | 0/30 [00:00<?, ?it/s]"
      ]
     },
     "metadata": {},
     "output_type": "display_data"
    },
    {
     "data": {
      "application/vnd.jupyter.widget-view+json": {
       "model_id": "39816053b3ee415da96d195143de9d64",
       "version_major": 2,
       "version_minor": 0
      },
      "text/plain": [
       "  0%|          | 0/30 [00:00<?, ?it/s]"
      ]
     },
     "metadata": {},
     "output_type": "display_data"
    },
    {
     "data": {
      "application/vnd.jupyter.widget-view+json": {
       "model_id": "4e5e303acd0d4961a71e6bbb8980dd59",
       "version_major": 2,
       "version_minor": 0
      },
      "text/plain": [
       "  0%|          | 0/30 [00:00<?, ?it/s]"
      ]
     },
     "metadata": {},
     "output_type": "display_data"
    },
    {
     "data": {
      "application/vnd.jupyter.widget-view+json": {
       "model_id": "b193e681711645d0aa97b8cf62b4c4bf",
       "version_major": 2,
       "version_minor": 0
      },
      "text/plain": [
       "  0%|          | 0/30 [00:00<?, ?it/s]"
      ]
     },
     "metadata": {},
     "output_type": "display_data"
    },
    {
     "data": {
      "application/vnd.jupyter.widget-view+json": {
       "model_id": "6945ba6b6f034925a11e744491d79caa",
       "version_major": 2,
       "version_minor": 0
      },
      "text/plain": [
       "  0%|          | 0/30 [00:00<?, ?it/s]"
      ]
     },
     "metadata": {},
     "output_type": "display_data"
    },
    {
     "data": {
      "application/vnd.jupyter.widget-view+json": {
       "model_id": "58b2f161c1584146bc8caf2c54ca849d",
       "version_major": 2,
       "version_minor": 0
      },
      "text/plain": [
       "  0%|          | 0/30 [00:00<?, ?it/s]"
      ]
     },
     "metadata": {},
     "output_type": "display_data"
    },
    {
     "data": {
      "application/vnd.jupyter.widget-view+json": {
       "model_id": "a761e7288bdb4e29bf37c46eba41c0cd",
       "version_major": 2,
       "version_minor": 0
      },
      "text/plain": [
       "  0%|          | 0/30 [00:00<?, ?it/s]"
      ]
     },
     "metadata": {},
     "output_type": "display_data"
    },
    {
     "data": {
      "application/vnd.jupyter.widget-view+json": {
       "model_id": "ee46c1f162824ea5ba94aee30ccdd6d0",
       "version_major": 2,
       "version_minor": 0
      },
      "text/plain": [
       "  0%|          | 0/30 [00:00<?, ?it/s]"
      ]
     },
     "metadata": {},
     "output_type": "display_data"
    },
    {
     "data": {
      "application/vnd.jupyter.widget-view+json": {
       "model_id": "4a87179daf9a4202bbe9d15de35bab7c",
       "version_major": 2,
       "version_minor": 0
      },
      "text/plain": [
       "  0%|          | 0/30 [00:00<?, ?it/s]"
      ]
     },
     "metadata": {},
     "output_type": "display_data"
    },
    {
     "data": {
      "application/vnd.jupyter.widget-view+json": {
       "model_id": "31c70a3849d0444d98fbb4f484dd776c",
       "version_major": 2,
       "version_minor": 0
      },
      "text/plain": [
       "  0%|          | 0/30 [00:00<?, ?it/s]"
      ]
     },
     "metadata": {},
     "output_type": "display_data"
    },
    {
     "data": {
      "application/vnd.jupyter.widget-view+json": {
       "model_id": "f41f13df8c7348ca805f454b295f97c5",
       "version_major": 2,
       "version_minor": 0
      },
      "text/plain": [
       "  0%|          | 0/30 [00:00<?, ?it/s]"
      ]
     },
     "metadata": {},
     "output_type": "display_data"
    },
    {
     "data": {
      "application/vnd.jupyter.widget-view+json": {
       "model_id": "77ce53d1dddf4de4b8b09afd9eb45e55",
       "version_major": 2,
       "version_minor": 0
      },
      "text/plain": [
       "  0%|          | 0/30 [00:00<?, ?it/s]"
      ]
     },
     "metadata": {},
     "output_type": "display_data"
    },
    {
     "data": {
      "application/vnd.jupyter.widget-view+json": {
       "model_id": "b27a3c8552c041c4a25c47c6a26cb0fa",
       "version_major": 2,
       "version_minor": 0
      },
      "text/plain": [
       "  0%|          | 0/30 [00:00<?, ?it/s]"
      ]
     },
     "metadata": {},
     "output_type": "display_data"
    },
    {
     "data": {
      "application/vnd.jupyter.widget-view+json": {
       "model_id": "00dbf213acbf4753aa1928c5d3293923",
       "version_major": 2,
       "version_minor": 0
      },
      "text/plain": [
       "  0%|          | 0/30 [00:00<?, ?it/s]"
      ]
     },
     "metadata": {},
     "output_type": "display_data"
    },
    {
     "data": {
      "application/vnd.jupyter.widget-view+json": {
       "model_id": "ebbdbe6ce0a142a68905516eb2b93371",
       "version_major": 2,
       "version_minor": 0
      },
      "text/plain": [
       "  0%|          | 0/30 [00:00<?, ?it/s]"
      ]
     },
     "metadata": {},
     "output_type": "display_data"
    },
    {
     "data": {
      "application/vnd.jupyter.widget-view+json": {
       "model_id": "df3f4e8b429548008ddd538d297a7bc9",
       "version_major": 2,
       "version_minor": 0
      },
      "text/plain": [
       "  0%|          | 0/30 [00:00<?, ?it/s]"
      ]
     },
     "metadata": {},
     "output_type": "display_data"
    },
    {
     "data": {
      "application/vnd.jupyter.widget-view+json": {
       "model_id": "c1ac908d3a7043b69b07d67b9dfdb5c4",
       "version_major": 2,
       "version_minor": 0
      },
      "text/plain": [
       "  0%|          | 0/30 [00:00<?, ?it/s]"
      ]
     },
     "metadata": {},
     "output_type": "display_data"
    },
    {
     "data": {
      "application/vnd.jupyter.widget-view+json": {
       "model_id": "57dfd1a5292540b58f35e07d68efa561",
       "version_major": 2,
       "version_minor": 0
      },
      "text/plain": [
       "  0%|          | 0/30 [00:00<?, ?it/s]"
      ]
     },
     "metadata": {},
     "output_type": "display_data"
    },
    {
     "data": {
      "application/vnd.jupyter.widget-view+json": {
       "model_id": "157c2e20c7fa4d9980562d5aeecc0828",
       "version_major": 2,
       "version_minor": 0
      },
      "text/plain": [
       "  0%|          | 0/30 [00:00<?, ?it/s]"
      ]
     },
     "metadata": {},
     "output_type": "display_data"
    },
    {
     "data": {
      "application/vnd.jupyter.widget-view+json": {
       "model_id": "4903dd99eda145e9bc5e56305c3e314f",
       "version_major": 2,
       "version_minor": 0
      },
      "text/plain": [
       "  0%|          | 0/30 [00:00<?, ?it/s]"
      ]
     },
     "metadata": {},
     "output_type": "display_data"
    },
    {
     "data": {
      "application/vnd.jupyter.widget-view+json": {
       "model_id": "ecc2e193ce66469fa9eb38daffa1e91e",
       "version_major": 2,
       "version_minor": 0
      },
      "text/plain": [
       "  0%|          | 0/30 [00:00<?, ?it/s]"
      ]
     },
     "metadata": {},
     "output_type": "display_data"
    },
    {
     "data": {
      "application/vnd.jupyter.widget-view+json": {
       "model_id": "57ed671ce15e4e03bb1c3fd8e3de5707",
       "version_major": 2,
       "version_minor": 0
      },
      "text/plain": [
       "  0%|          | 0/30 [00:00<?, ?it/s]"
      ]
     },
     "metadata": {},
     "output_type": "display_data"
    },
    {
     "data": {
      "application/vnd.jupyter.widget-view+json": {
       "model_id": "85a61225d7c64e1991e0c765e73ea1b5",
       "version_major": 2,
       "version_minor": 0
      },
      "text/plain": [
       "  0%|          | 0/30 [00:00<?, ?it/s]"
      ]
     },
     "metadata": {},
     "output_type": "display_data"
    },
    {
     "data": {
      "application/vnd.jupyter.widget-view+json": {
       "model_id": "2062376e881a4b24b0e2eb2cc015a491",
       "version_major": 2,
       "version_minor": 0
      },
      "text/plain": [
       "  0%|          | 0/30 [00:00<?, ?it/s]"
      ]
     },
     "metadata": {},
     "output_type": "display_data"
    },
    {
     "data": {
      "application/vnd.jupyter.widget-view+json": {
       "model_id": "6e83aadb3c4e4b6199f12074c528eb51",
       "version_major": 2,
       "version_minor": 0
      },
      "text/plain": [
       "  0%|          | 0/30 [00:00<?, ?it/s]"
      ]
     },
     "metadata": {},
     "output_type": "display_data"
    },
    {
     "data": {
      "application/vnd.jupyter.widget-view+json": {
       "model_id": "da6a237e1d8f48a8a8310487e77e4a99",
       "version_major": 2,
       "version_minor": 0
      },
      "text/plain": [
       "  0%|          | 0/30 [00:00<?, ?it/s]"
      ]
     },
     "metadata": {},
     "output_type": "display_data"
    },
    {
     "data": {
      "application/vnd.jupyter.widget-view+json": {
       "model_id": "a39c78fa4c6c411c80e02f511f06c3e4",
       "version_major": 2,
       "version_minor": 0
      },
      "text/plain": [
       "  0%|          | 0/30 [00:00<?, ?it/s]"
      ]
     },
     "metadata": {},
     "output_type": "display_data"
    },
    {
     "data": {
      "application/vnd.jupyter.widget-view+json": {
       "model_id": "675aa27fe38040f18dd71c54168feb5c",
       "version_major": 2,
       "version_minor": 0
      },
      "text/plain": [
       "  0%|          | 0/30 [00:00<?, ?it/s]"
      ]
     },
     "metadata": {},
     "output_type": "display_data"
    },
    {
     "data": {
      "application/vnd.jupyter.widget-view+json": {
       "model_id": "836c943134b34379890f5d8988e0b544",
       "version_major": 2,
       "version_minor": 0
      },
      "text/plain": [
       "  0%|          | 0/30 [00:00<?, ?it/s]"
      ]
     },
     "metadata": {},
     "output_type": "display_data"
    },
    {
     "data": {
      "application/vnd.jupyter.widget-view+json": {
       "model_id": "41f78612c2af429dad84de7cf953101a",
       "version_major": 2,
       "version_minor": 0
      },
      "text/plain": [
       "  0%|          | 0/30 [00:00<?, ?it/s]"
      ]
     },
     "metadata": {},
     "output_type": "display_data"
    },
    {
     "data": {
      "application/vnd.jupyter.widget-view+json": {
       "model_id": "574806ffb1394b96a6677a427b03807c",
       "version_major": 2,
       "version_minor": 0
      },
      "text/plain": [
       "  0%|          | 0/30 [00:00<?, ?it/s]"
      ]
     },
     "metadata": {},
     "output_type": "display_data"
    },
    {
     "data": {
      "application/vnd.jupyter.widget-view+json": {
       "model_id": "538c785b0fc546ed8054f15d46d6b52a",
       "version_major": 2,
       "version_minor": 0
      },
      "text/plain": [
       "  0%|          | 0/30 [00:00<?, ?it/s]"
      ]
     },
     "metadata": {},
     "output_type": "display_data"
    },
    {
     "data": {
      "application/vnd.jupyter.widget-view+json": {
       "model_id": "8e4688cf82934a308a66de3c7147450a",
       "version_major": 2,
       "version_minor": 0
      },
      "text/plain": [
       "  0%|          | 0/30 [00:00<?, ?it/s]"
      ]
     },
     "metadata": {},
     "output_type": "display_data"
    },
    {
     "data": {
      "application/vnd.jupyter.widget-view+json": {
       "model_id": "7e820106ea6e4836af3d6a9a25d6f68d",
       "version_major": 2,
       "version_minor": 0
      },
      "text/plain": [
       "  0%|          | 0/30 [00:00<?, ?it/s]"
      ]
     },
     "metadata": {},
     "output_type": "display_data"
    },
    {
     "data": {
      "application/vnd.jupyter.widget-view+json": {
       "model_id": "169c84874b7a493aabcc80ef17080aae",
       "version_major": 2,
       "version_minor": 0
      },
      "text/plain": [
       "  0%|          | 0/30 [00:00<?, ?it/s]"
      ]
     },
     "metadata": {},
     "output_type": "display_data"
    },
    {
     "data": {
      "application/vnd.jupyter.widget-view+json": {
       "model_id": "37d308fb8c43490caf815274ee89495f",
       "version_major": 2,
       "version_minor": 0
      },
      "text/plain": [
       "  0%|          | 0/30 [00:00<?, ?it/s]"
      ]
     },
     "metadata": {},
     "output_type": "display_data"
    },
    {
     "data": {
      "application/vnd.jupyter.widget-view+json": {
       "model_id": "75716f2e52e14b4f92c95d6c82ddb5ef",
       "version_major": 2,
       "version_minor": 0
      },
      "text/plain": [
       "  0%|          | 0/30 [00:00<?, ?it/s]"
      ]
     },
     "metadata": {},
     "output_type": "display_data"
    },
    {
     "data": {
      "application/vnd.jupyter.widget-view+json": {
       "model_id": "06476193a0804d1f9754f12782efa899",
       "version_major": 2,
       "version_minor": 0
      },
      "text/plain": [
       "  0%|          | 0/30 [00:00<?, ?it/s]"
      ]
     },
     "metadata": {},
     "output_type": "display_data"
    },
    {
     "data": {
      "application/vnd.jupyter.widget-view+json": {
       "model_id": "fec21663aadb4e339a330471c082d739",
       "version_major": 2,
       "version_minor": 0
      },
      "text/plain": [
       "  0%|          | 0/30 [00:00<?, ?it/s]"
      ]
     },
     "metadata": {},
     "output_type": "display_data"
    },
    {
     "data": {
      "application/vnd.jupyter.widget-view+json": {
       "model_id": "13a7ea46fa824eafb68a4a7d0843c4c9",
       "version_major": 2,
       "version_minor": 0
      },
      "text/plain": [
       "  0%|          | 0/30 [00:00<?, ?it/s]"
      ]
     },
     "metadata": {},
     "output_type": "display_data"
    },
    {
     "data": {
      "application/vnd.jupyter.widget-view+json": {
       "model_id": "4c5d31ded7c04f2e9211ae1c5068b967",
       "version_major": 2,
       "version_minor": 0
      },
      "text/plain": [
       "  0%|          | 0/30 [00:00<?, ?it/s]"
      ]
     },
     "metadata": {},
     "output_type": "display_data"
    },
    {
     "data": {
      "application/vnd.jupyter.widget-view+json": {
       "model_id": "71186350e0b94335894c85426a02c06a",
       "version_major": 2,
       "version_minor": 0
      },
      "text/plain": [
       "  0%|          | 0/30 [00:00<?, ?it/s]"
      ]
     },
     "metadata": {},
     "output_type": "display_data"
    },
    {
     "data": {
      "application/vnd.jupyter.widget-view+json": {
       "model_id": "87d31ae6a9b14a1683d2372f2f79e379",
       "version_major": 2,
       "version_minor": 0
      },
      "text/plain": [
       "  0%|          | 0/30 [00:00<?, ?it/s]"
      ]
     },
     "metadata": {},
     "output_type": "display_data"
    },
    {
     "data": {
      "application/vnd.jupyter.widget-view+json": {
       "model_id": "c71f2c12403c4b33bdd906010b978795",
       "version_major": 2,
       "version_minor": 0
      },
      "text/plain": [
       "  0%|          | 0/30 [00:00<?, ?it/s]"
      ]
     },
     "metadata": {},
     "output_type": "display_data"
    },
    {
     "data": {
      "application/vnd.jupyter.widget-view+json": {
       "model_id": "88d810c818eb423c91162defe9a0568b",
       "version_major": 2,
       "version_minor": 0
      },
      "text/plain": [
       "  0%|          | 0/30 [00:00<?, ?it/s]"
      ]
     },
     "metadata": {},
     "output_type": "display_data"
    },
    {
     "data": {
      "application/vnd.jupyter.widget-view+json": {
       "model_id": "2bd30b586a914412984b9a40587a63e5",
       "version_major": 2,
       "version_minor": 0
      },
      "text/plain": [
       "  0%|          | 0/30 [00:00<?, ?it/s]"
      ]
     },
     "metadata": {},
     "output_type": "display_data"
    },
    {
     "data": {
      "application/vnd.jupyter.widget-view+json": {
       "model_id": "72e8ba59f38b4b3ba9629420bb90bc16",
       "version_major": 2,
       "version_minor": 0
      },
      "text/plain": [
       "  0%|          | 0/30 [00:00<?, ?it/s]"
      ]
     },
     "metadata": {},
     "output_type": "display_data"
    },
    {
     "data": {
      "application/vnd.jupyter.widget-view+json": {
       "model_id": "7aa3383d1d224926b43f6624e5f391bc",
       "version_major": 2,
       "version_minor": 0
      },
      "text/plain": [
       "  0%|          | 0/30 [00:00<?, ?it/s]"
      ]
     },
     "metadata": {},
     "output_type": "display_data"
    },
    {
     "data": {
      "application/vnd.jupyter.widget-view+json": {
       "model_id": "1186a1c185474276afedce6932bdb123",
       "version_major": 2,
       "version_minor": 0
      },
      "text/plain": [
       "  0%|          | 0/30 [00:00<?, ?it/s]"
      ]
     },
     "metadata": {},
     "output_type": "display_data"
    },
    {
     "data": {
      "application/vnd.jupyter.widget-view+json": {
       "model_id": "ea7c7aa65aa74003b6ae1c1c2d376b7b",
       "version_major": 2,
       "version_minor": 0
      },
      "text/plain": [
       "  0%|          | 0/30 [00:00<?, ?it/s]"
      ]
     },
     "metadata": {},
     "output_type": "display_data"
    },
    {
     "data": {
      "application/vnd.jupyter.widget-view+json": {
       "model_id": "15c00623d5084d1aaad4bdcf905a5977",
       "version_major": 2,
       "version_minor": 0
      },
      "text/plain": [
       "  0%|          | 0/30 [00:00<?, ?it/s]"
      ]
     },
     "metadata": {},
     "output_type": "display_data"
    },
    {
     "data": {
      "application/vnd.jupyter.widget-view+json": {
       "model_id": "08aaf8ef521e43cf8b69806121f8e40d",
       "version_major": 2,
       "version_minor": 0
      },
      "text/plain": [
       "  0%|          | 0/30 [00:00<?, ?it/s]"
      ]
     },
     "metadata": {},
     "output_type": "display_data"
    },
    {
     "data": {
      "application/vnd.jupyter.widget-view+json": {
       "model_id": "d8c44e7d67084bdf95cebe4b32de6472",
       "version_major": 2,
       "version_minor": 0
      },
      "text/plain": [
       "  0%|          | 0/30 [00:00<?, ?it/s]"
      ]
     },
     "metadata": {},
     "output_type": "display_data"
    },
    {
     "data": {
      "application/vnd.jupyter.widget-view+json": {
       "model_id": "31c4f81473aa40b9b4a3f55212944cdb",
       "version_major": 2,
       "version_minor": 0
      },
      "text/plain": [
       "  0%|          | 0/30 [00:00<?, ?it/s]"
      ]
     },
     "metadata": {},
     "output_type": "display_data"
    },
    {
     "data": {
      "application/vnd.jupyter.widget-view+json": {
       "model_id": "aad4d41711a04bf3bba0d399be7b6a2b",
       "version_major": 2,
       "version_minor": 0
      },
      "text/plain": [
       "  0%|          | 0/30 [00:00<?, ?it/s]"
      ]
     },
     "metadata": {},
     "output_type": "display_data"
    },
    {
     "data": {
      "application/vnd.jupyter.widget-view+json": {
       "model_id": "6bff4f417f21425aaaf5ade8d6b28bbe",
       "version_major": 2,
       "version_minor": 0
      },
      "text/plain": [
       "  0%|          | 0/30 [00:00<?, ?it/s]"
      ]
     },
     "metadata": {},
     "output_type": "display_data"
    },
    {
     "data": {
      "application/vnd.jupyter.widget-view+json": {
       "model_id": "165ef2fa3c0f49949cb1a082a3135381",
       "version_major": 2,
       "version_minor": 0
      },
      "text/plain": [
       "  0%|          | 0/30 [00:00<?, ?it/s]"
      ]
     },
     "metadata": {},
     "output_type": "display_data"
    },
    {
     "data": {
      "application/vnd.jupyter.widget-view+json": {
       "model_id": "fe0b36d0a2524922b87752d8fb3f79b0",
       "version_major": 2,
       "version_minor": 0
      },
      "text/plain": [
       "  0%|          | 0/30 [00:00<?, ?it/s]"
      ]
     },
     "metadata": {},
     "output_type": "display_data"
    },
    {
     "data": {
      "application/vnd.jupyter.widget-view+json": {
       "model_id": "f6bd5a79a9b34c89b4b466599d3f4cb0",
       "version_major": 2,
       "version_minor": 0
      },
      "text/plain": [
       "  0%|          | 0/30 [00:00<?, ?it/s]"
      ]
     },
     "metadata": {},
     "output_type": "display_data"
    },
    {
     "data": {
      "application/vnd.jupyter.widget-view+json": {
       "model_id": "6b7cd94f53764190950d9f1e1f12c855",
       "version_major": 2,
       "version_minor": 0
      },
      "text/plain": [
       "  0%|          | 0/30 [00:00<?, ?it/s]"
      ]
     },
     "metadata": {},
     "output_type": "display_data"
    },
    {
     "data": {
      "application/vnd.jupyter.widget-view+json": {
       "model_id": "69bb257d325643a9a3ea1d9af98d1095",
       "version_major": 2,
       "version_minor": 0
      },
      "text/plain": [
       "  0%|          | 0/30 [00:00<?, ?it/s]"
      ]
     },
     "metadata": {},
     "output_type": "display_data"
    },
    {
     "data": {
      "application/vnd.jupyter.widget-view+json": {
       "model_id": "282be22fd4f64dac96d7440f67f702cb",
       "version_major": 2,
       "version_minor": 0
      },
      "text/plain": [
       "  0%|          | 0/30 [00:00<?, ?it/s]"
      ]
     },
     "metadata": {},
     "output_type": "display_data"
    },
    {
     "data": {
      "application/vnd.jupyter.widget-view+json": {
       "model_id": "8b475297b61c47c7820b703b98a0be51",
       "version_major": 2,
       "version_minor": 0
      },
      "text/plain": [
       "  0%|          | 0/30 [00:00<?, ?it/s]"
      ]
     },
     "metadata": {},
     "output_type": "display_data"
    },
    {
     "data": {
      "application/vnd.jupyter.widget-view+json": {
       "model_id": "73d6c0f5e24f49d8878260f6572f7671",
       "version_major": 2,
       "version_minor": 0
      },
      "text/plain": [
       "  0%|          | 0/30 [00:00<?, ?it/s]"
      ]
     },
     "metadata": {},
     "output_type": "display_data"
    },
    {
     "data": {
      "application/vnd.jupyter.widget-view+json": {
       "model_id": "77105c8970ca43e0bb137e81a81d5ea1",
       "version_major": 2,
       "version_minor": 0
      },
      "text/plain": [
       "  0%|          | 0/30 [00:00<?, ?it/s]"
      ]
     },
     "metadata": {},
     "output_type": "display_data"
    },
    {
     "data": {
      "application/vnd.jupyter.widget-view+json": {
       "model_id": "6aee7c2698194271aaad27cdca665f2c",
       "version_major": 2,
       "version_minor": 0
      },
      "text/plain": [
       "  0%|          | 0/30 [00:00<?, ?it/s]"
      ]
     },
     "metadata": {},
     "output_type": "display_data"
    },
    {
     "data": {
      "application/vnd.jupyter.widget-view+json": {
       "model_id": "ba84514664f143e2afec7cbf867d0d4b",
       "version_major": 2,
       "version_minor": 0
      },
      "text/plain": [
       "  0%|          | 0/30 [00:00<?, ?it/s]"
      ]
     },
     "metadata": {},
     "output_type": "display_data"
    },
    {
     "data": {
      "application/vnd.jupyter.widget-view+json": {
       "model_id": "51bf0084c3804c40a723d273d9968134",
       "version_major": 2,
       "version_minor": 0
      },
      "text/plain": [
       "  0%|          | 0/30 [00:00<?, ?it/s]"
      ]
     },
     "metadata": {},
     "output_type": "display_data"
    },
    {
     "data": {
      "application/vnd.jupyter.widget-view+json": {
       "model_id": "25222aca577b446eadaac565aa83c6a3",
       "version_major": 2,
       "version_minor": 0
      },
      "text/plain": [
       "  0%|          | 0/30 [00:00<?, ?it/s]"
      ]
     },
     "metadata": {},
     "output_type": "display_data"
    },
    {
     "data": {
      "application/vnd.jupyter.widget-view+json": {
       "model_id": "dbb45c8377c74bd59de92a3bf3d32866",
       "version_major": 2,
       "version_minor": 0
      },
      "text/plain": [
       "  0%|          | 0/30 [00:00<?, ?it/s]"
      ]
     },
     "metadata": {},
     "output_type": "display_data"
    },
    {
     "data": {
      "application/vnd.jupyter.widget-view+json": {
       "model_id": "c01e22d8f5ab48199e69a00c5aa7dcd8",
       "version_major": 2,
       "version_minor": 0
      },
      "text/plain": [
       "  0%|          | 0/30 [00:00<?, ?it/s]"
      ]
     },
     "metadata": {},
     "output_type": "display_data"
    },
    {
     "data": {
      "application/vnd.jupyter.widget-view+json": {
       "model_id": "7e04c86940b9402fa57d26994aaeb429",
       "version_major": 2,
       "version_minor": 0
      },
      "text/plain": [
       "  0%|          | 0/30 [00:00<?, ?it/s]"
      ]
     },
     "metadata": {},
     "output_type": "display_data"
    },
    {
     "data": {
      "application/vnd.jupyter.widget-view+json": {
       "model_id": "33a7eb9f7a744f80ab9b8e4596cf9d79",
       "version_major": 2,
       "version_minor": 0
      },
      "text/plain": [
       "  0%|          | 0/30 [00:00<?, ?it/s]"
      ]
     },
     "metadata": {},
     "output_type": "display_data"
    },
    {
     "data": {
      "application/vnd.jupyter.widget-view+json": {
       "model_id": "75dd3ec019994263ac83dbe7c6928bc4",
       "version_major": 2,
       "version_minor": 0
      },
      "text/plain": [
       "  0%|          | 0/30 [00:00<?, ?it/s]"
      ]
     },
     "metadata": {},
     "output_type": "display_data"
    },
    {
     "data": {
      "application/vnd.jupyter.widget-view+json": {
       "model_id": "79f5bf9cf9f044eeaee29f73d9f546ec",
       "version_major": 2,
       "version_minor": 0
      },
      "text/plain": [
       "  0%|          | 0/30 [00:00<?, ?it/s]"
      ]
     },
     "metadata": {},
     "output_type": "display_data"
    },
    {
     "data": {
      "application/vnd.jupyter.widget-view+json": {
       "model_id": "2d86758fd15a4a8c96e143749fed3102",
       "version_major": 2,
       "version_minor": 0
      },
      "text/plain": [
       "  0%|          | 0/30 [00:00<?, ?it/s]"
      ]
     },
     "metadata": {},
     "output_type": "display_data"
    },
    {
     "data": {
      "application/vnd.jupyter.widget-view+json": {
       "model_id": "d31b736ae1d246aeaa8e8b3a353c94a2",
       "version_major": 2,
       "version_minor": 0
      },
      "text/plain": [
       "  0%|          | 0/30 [00:00<?, ?it/s]"
      ]
     },
     "metadata": {},
     "output_type": "display_data"
    },
    {
     "data": {
      "application/vnd.jupyter.widget-view+json": {
       "model_id": "af43f6e8b5824e1a89d30c16233715f1",
       "version_major": 2,
       "version_minor": 0
      },
      "text/plain": [
       "  0%|          | 0/30 [00:00<?, ?it/s]"
      ]
     },
     "metadata": {},
     "output_type": "display_data"
    },
    {
     "data": {
      "application/vnd.jupyter.widget-view+json": {
       "model_id": "6077d70bb96e476491872160df5924ed",
       "version_major": 2,
       "version_minor": 0
      },
      "text/plain": [
       "  0%|          | 0/30 [00:00<?, ?it/s]"
      ]
     },
     "metadata": {},
     "output_type": "display_data"
    },
    {
     "data": {
      "application/vnd.jupyter.widget-view+json": {
       "model_id": "ba2eac8b031c46ca85f3df2cd6f002be",
       "version_major": 2,
       "version_minor": 0
      },
      "text/plain": [
       "  0%|          | 0/30 [00:00<?, ?it/s]"
      ]
     },
     "metadata": {},
     "output_type": "display_data"
    },
    {
     "data": {
      "application/vnd.jupyter.widget-view+json": {
       "model_id": "0d0d291ab5a4499c8abc1333c366ba57",
       "version_major": 2,
       "version_minor": 0
      },
      "text/plain": [
       "  0%|          | 0/30 [00:00<?, ?it/s]"
      ]
     },
     "metadata": {},
     "output_type": "display_data"
    },
    {
     "data": {
      "application/vnd.jupyter.widget-view+json": {
       "model_id": "1fdc88993c704a6b8507a4bcf5c23cad",
       "version_major": 2,
       "version_minor": 0
      },
      "text/plain": [
       "  0%|          | 0/30 [00:00<?, ?it/s]"
      ]
     },
     "metadata": {},
     "output_type": "display_data"
    },
    {
     "data": {
      "application/vnd.jupyter.widget-view+json": {
       "model_id": "f0bbcb3a6798400d8d297e69832b8763",
       "version_major": 2,
       "version_minor": 0
      },
      "text/plain": [
       "  0%|          | 0/30 [00:00<?, ?it/s]"
      ]
     },
     "metadata": {},
     "output_type": "display_data"
    },
    {
     "data": {
      "application/vnd.jupyter.widget-view+json": {
       "model_id": "87f9034d960d471fbfb2b3826056733e",
       "version_major": 2,
       "version_minor": 0
      },
      "text/plain": [
       "  0%|          | 0/30 [00:00<?, ?it/s]"
      ]
     },
     "metadata": {},
     "output_type": "display_data"
    },
    {
     "data": {
      "application/vnd.jupyter.widget-view+json": {
       "model_id": "321f8efb1d034535a6f049c2f5fbcb9e",
       "version_major": 2,
       "version_minor": 0
      },
      "text/plain": [
       "  0%|          | 0/30 [00:00<?, ?it/s]"
      ]
     },
     "metadata": {},
     "output_type": "display_data"
    },
    {
     "data": {
      "application/vnd.jupyter.widget-view+json": {
       "model_id": "ac74f8bcb5ef4bb9a200afe217d7946e",
       "version_major": 2,
       "version_minor": 0
      },
      "text/plain": [
       "  0%|          | 0/30 [00:00<?, ?it/s]"
      ]
     },
     "metadata": {},
     "output_type": "display_data"
    },
    {
     "data": {
      "application/vnd.jupyter.widget-view+json": {
       "model_id": "7987d9d309bc495d87bf48bbd460408b",
       "version_major": 2,
       "version_minor": 0
      },
      "text/plain": [
       "  0%|          | 0/30 [00:00<?, ?it/s]"
      ]
     },
     "metadata": {},
     "output_type": "display_data"
    },
    {
     "data": {
      "application/vnd.jupyter.widget-view+json": {
       "model_id": "8af35f7aa57f4388953a84310e05d1c2",
       "version_major": 2,
       "version_minor": 0
      },
      "text/plain": [
       "  0%|          | 0/30 [00:00<?, ?it/s]"
      ]
     },
     "metadata": {},
     "output_type": "display_data"
    },
    {
     "data": {
      "application/vnd.jupyter.widget-view+json": {
       "model_id": "ea9905e9cd5d4d67b95dd5346e24b675",
       "version_major": 2,
       "version_minor": 0
      },
      "text/plain": [
       "  0%|          | 0/30 [00:00<?, ?it/s]"
      ]
     },
     "metadata": {},
     "output_type": "display_data"
    },
    {
     "data": {
      "application/vnd.jupyter.widget-view+json": {
       "model_id": "45c9b3f515844bf0ac5828ad201856d6",
       "version_major": 2,
       "version_minor": 0
      },
      "text/plain": [
       "  0%|          | 0/30 [00:00<?, ?it/s]"
      ]
     },
     "metadata": {},
     "output_type": "display_data"
    },
    {
     "data": {
      "application/vnd.jupyter.widget-view+json": {
       "model_id": "f90800828d6b4077ae076a6a31a407a2",
       "version_major": 2,
       "version_minor": 0
      },
      "text/plain": [
       "  0%|          | 0/30 [00:00<?, ?it/s]"
      ]
     },
     "metadata": {},
     "output_type": "display_data"
    },
    {
     "data": {
      "application/vnd.jupyter.widget-view+json": {
       "model_id": "298c0b950f424298ad4e22d8af43f059",
       "version_major": 2,
       "version_minor": 0
      },
      "text/plain": [
       "  0%|          | 0/30 [00:00<?, ?it/s]"
      ]
     },
     "metadata": {},
     "output_type": "display_data"
    },
    {
     "data": {
      "application/vnd.jupyter.widget-view+json": {
       "model_id": "fc3d34d8942044258ac92c9fd182f9f2",
       "version_major": 2,
       "version_minor": 0
      },
      "text/plain": [
       "  0%|          | 0/30 [00:00<?, ?it/s]"
      ]
     },
     "metadata": {},
     "output_type": "display_data"
    },
    {
     "data": {
      "application/vnd.jupyter.widget-view+json": {
       "model_id": "f66f0476abe64315a384ba9b36a091d7",
       "version_major": 2,
       "version_minor": 0
      },
      "text/plain": [
       "  0%|          | 0/30 [00:00<?, ?it/s]"
      ]
     },
     "metadata": {},
     "output_type": "display_data"
    },
    {
     "data": {
      "application/vnd.jupyter.widget-view+json": {
       "model_id": "b1e57999b9ca4f9eb8ed820c5952fa30",
       "version_major": 2,
       "version_minor": 0
      },
      "text/plain": [
       "  0%|          | 0/30 [00:00<?, ?it/s]"
      ]
     },
     "metadata": {},
     "output_type": "display_data"
    },
    {
     "data": {
      "application/vnd.jupyter.widget-view+json": {
       "model_id": "085074d20ebc48208ebe076a5810e3e0",
       "version_major": 2,
       "version_minor": 0
      },
      "text/plain": [
       "  0%|          | 0/30 [00:00<?, ?it/s]"
      ]
     },
     "metadata": {},
     "output_type": "display_data"
    },
    {
     "data": {
      "application/vnd.jupyter.widget-view+json": {
       "model_id": "36071262ff5047988b7530bd3827f7cc",
       "version_major": 2,
       "version_minor": 0
      },
      "text/plain": [
       "  0%|          | 0/30 [00:00<?, ?it/s]"
      ]
     },
     "metadata": {},
     "output_type": "display_data"
    },
    {
     "data": {
      "application/vnd.jupyter.widget-view+json": {
       "model_id": "cc223378a7254ce2ace7ad3e7271ab3b",
       "version_major": 2,
       "version_minor": 0
      },
      "text/plain": [
       "  0%|          | 0/30 [00:00<?, ?it/s]"
      ]
     },
     "metadata": {},
     "output_type": "display_data"
    },
    {
     "data": {
      "application/vnd.jupyter.widget-view+json": {
       "model_id": "63b18c7ff7554bc886add72ffef9fef6",
       "version_major": 2,
       "version_minor": 0
      },
      "text/plain": [
       "  0%|          | 0/30 [00:00<?, ?it/s]"
      ]
     },
     "metadata": {},
     "output_type": "display_data"
    },
    {
     "data": {
      "application/vnd.jupyter.widget-view+json": {
       "model_id": "ba6acc4591054342bf87db7112f04b5c",
       "version_major": 2,
       "version_minor": 0
      },
      "text/plain": [
       "  0%|          | 0/30 [00:00<?, ?it/s]"
      ]
     },
     "metadata": {},
     "output_type": "display_data"
    },
    {
     "data": {
      "application/vnd.jupyter.widget-view+json": {
       "model_id": "341e79529a6048bf924ff32128c38a0f",
       "version_major": 2,
       "version_minor": 0
      },
      "text/plain": [
       "  0%|          | 0/30 [00:00<?, ?it/s]"
      ]
     },
     "metadata": {},
     "output_type": "display_data"
    }
   ],
   "source": [
    "for i, (idx, prompt) in enumerate(items_sameprompt_erased.items()):\n",
    "    images = pipe(prompt, width=512, height=512, num_inference_steps=30)[0]\n",
    "    images[0].save(os.path.join(\"../dataset_fashion/gen_socks_sameprompt\", f\"{idx}.jpg\"))"
   ]
  },
  {
   "cell_type": "code",
   "execution_count": 71,
   "metadata": {},
   "outputs": [],
   "source": [
    "original_ids = available_items.loc[items_sameprompt_erased.index][\"article_id\"]\n",
    "original_img_path = [f\"./data/images/{'0'+str(ids)[:2]}/{'0'+str(ids)+'.jpg'}\" for ids in original_ids]\n",
    "gen_img_path = [os.path.join(\"../dataset_fashion/gen_socks_sameprompt\", f\"{idx}.jpg\") for idx in items_sameprompt_erased.index]\n",
    "gen_img_prompt = items_sameprompt_erased.values"
   ]
  },
  {
   "cell_type": "code",
   "execution_count": 73,
   "metadata": {},
   "outputs": [],
   "source": [
    "def erased_prompt_image_generator():\n",
    "    yield from zip(original_img_path, gen_img_path, gen_img_prompt)"
   ]
  },
  {
   "cell_type": "code",
   "execution_count": 74,
   "metadata": {},
   "outputs": [],
   "source": [
    "gen = erased_prompt_image_generator()"
   ]
  },
  {
   "cell_type": "code",
   "execution_count": 75,
   "metadata": {},
   "outputs": [
    {
     "name": "stdout",
     "output_type": "stream",
     "text": [
      "./data/images/074/0745256007.jpg\n",
      "../dataset_fashion/gen_socks_sameprompt\\65684.jpg\n",
      "jacquard-knit cotton blend with tops. Socks\n",
      "./data/images/078/0783707002.jpg\n",
      "../dataset_fashion/gen_socks_sameprompt\\76049.jpg\n",
      "Socks a soft, jacquard-knit cotton blend elasticated. Socks\n",
      "./data/images/078/0783707004.jpg\n",
      "../dataset_fashion/gen_socks_sameprompt\\76050.jpg\n",
      "Socks in a soft, elasticated tops. Socks\n",
      "./data/images/078/0783707005.jpg\n",
      "../dataset_fashion/gen_socks_sameprompt\\76051.jpg\n",
      "in a soft, jacquard-knit blend with elasticated. Socks\n",
      "./data/images/078/0783707012.jpg\n",
      "../dataset_fashion/gen_socks_sameprompt\\76052.jpg\n",
      "Socks soft, jacquard-knit cotton with. Socks\n",
      "./data/images/078/0783707015.jpg\n",
      "../dataset_fashion/gen_socks_sameprompt\\76053.jpg\n",
      "Socks in a soft, jacquard-knit cotton with elasticated. Socks\n",
      "./data/images/078/0783707019.jpg\n",
      "../dataset_fashion/gen_socks_sameprompt\\76054.jpg\n",
      "Socks in jacquard-knit blend with elasticated tops. Socks\n",
      "./data/images/078/0783707021.jpg\n",
      "../dataset_fashion/gen_socks_sameprompt\\76055.jpg\n",
      "Socks in a soft, cotton blend with elasticated tops. Socks\n",
      "./data/images/078/0783707026.jpg\n",
      "../dataset_fashion/gen_socks_sameprompt\\76056.jpg\n",
      "Socks in a soft, jacquard-knit cotton with elasticated. Socks\n",
      "./data/images/078/0783707028.jpg\n",
      "../dataset_fashion/gen_socks_sameprompt\\76057.jpg\n",
      "Socks a soft, cotton blend with. Socks\n",
      "./data/images/078/0783707029.jpg\n",
      "../dataset_fashion/gen_socks_sameprompt\\76058.jpg\n",
      "Socks in a jacquard-knit cotton blend elasticated tops. Socks\n",
      "./data/images/078/0783707030.jpg\n",
      "../dataset_fashion/gen_socks_sameprompt\\76059.jpg\n",
      "Socks in a soft, cotton blend elasticated tops. Socks\n",
      "./data/images/078/0783707031.jpg\n",
      "../dataset_fashion/gen_socks_sameprompt\\76060.jpg\n",
      "in a soft, cotton blend with elasticated. Socks\n",
      "./data/images/078/0783707032.jpg\n",
      "../dataset_fashion/gen_socks_sameprompt\\76061.jpg\n",
      "Socks soft, jacquard-knit cotton blend with tops. Socks\n",
      "./data/images/078/0783707033.jpg\n",
      "../dataset_fashion/gen_socks_sameprompt\\76062.jpg\n",
      "Socks in soft, jacquard-knit with elasticated. Socks\n",
      "./data/images/078/0783707034.jpg\n",
      "../dataset_fashion/gen_socks_sameprompt\\76063.jpg\n",
      "Socks a soft, jacquard-knit cotton blend elasticated tops. Socks\n",
      "./data/images/078/0783707036.jpg\n",
      "../dataset_fashion/gen_socks_sameprompt\\76065.jpg\n",
      "Socks jacquard-knit cotton blend with elasticated. Socks\n",
      "./data/images/078/0783707037.jpg\n",
      "../dataset_fashion/gen_socks_sameprompt\\76066.jpg\n",
      "Socks in a soft, jacquard-knit cotton elasticated tops. Socks\n",
      "./data/images/078/0783707038.jpg\n",
      "../dataset_fashion/gen_socks_sameprompt\\76067.jpg\n",
      "Socks in jacquard-knit cotton with tops. Socks\n",
      "./data/images/078/0783707039.jpg\n",
      "../dataset_fashion/gen_socks_sameprompt\\76068.jpg\n",
      "in a soft, blend with elasticated. Socks\n",
      "./data/images/078/0783707041.jpg\n",
      "../dataset_fashion/gen_socks_sameprompt\\76069.jpg\n",
      "Socks in a jacquard-knit with tops. Socks\n",
      "./data/images/078/0783707043.jpg\n",
      "../dataset_fashion/gen_socks_sameprompt\\76070.jpg\n",
      "Socks in a jacquard-knit cotton with. Socks\n",
      "./data/images/078/0783707045.jpg\n",
      "../dataset_fashion/gen_socks_sameprompt\\76071.jpg\n",
      "Socks a soft, jacquard-knit elasticated tops. Socks\n",
      "./data/images/078/0783707046.jpg\n",
      "../dataset_fashion/gen_socks_sameprompt\\76072.jpg\n",
      "in soft, jacquard-knit cotton blend with elasticated tops. Socks\n",
      "./data/images/078/0783707047.jpg\n",
      "../dataset_fashion/gen_socks_sameprompt\\76073.jpg\n",
      "in a soft, jacquard-knit cotton blend with. Socks\n",
      "./data/images/078/0783707048.jpg\n",
      "../dataset_fashion/gen_socks_sameprompt\\76074.jpg\n",
      "a jacquard-knit cotton with elasticated tops. Socks\n",
      "./data/images/078/0783707049.jpg\n",
      "../dataset_fashion/gen_socks_sameprompt\\76075.jpg\n",
      "Socks in soft, jacquard-knit cotton with. Socks\n",
      "./data/images/078/0783707050.jpg\n",
      "../dataset_fashion/gen_socks_sameprompt\\76076.jpg\n",
      "in a soft, jacquard-knit cotton blend with elasticated. Socks\n",
      "./data/images/078/0783707056.jpg\n",
      "../dataset_fashion/gen_socks_sameprompt\\76077.jpg\n",
      "Socks in a soft, jacquard-knit cotton blend with tops. Socks\n",
      "./data/images/078/0783707057.jpg\n",
      "../dataset_fashion/gen_socks_sameprompt\\76078.jpg\n",
      "Socks a soft, jacquard-knit blend with. Socks\n",
      "./data/images/078/0783707063.jpg\n",
      "../dataset_fashion/gen_socks_sameprompt\\76080.jpg\n",
      "Socks a soft, cotton blend with elasticated tops. Socks\n",
      "./data/images/078/0783707064.jpg\n",
      "../dataset_fashion/gen_socks_sameprompt\\76081.jpg\n",
      "in a jacquard-knit cotton blend elasticated tops. Socks\n",
      "./data/images/078/0783707065.jpg\n",
      "../dataset_fashion/gen_socks_sameprompt\\76082.jpg\n",
      "soft, jacquard-knit cotton blend elasticated tops. Socks\n",
      "./data/images/078/0783707066.jpg\n",
      "../dataset_fashion/gen_socks_sameprompt\\76083.jpg\n",
      "soft, jacquard-knit cotton blend with elasticated tops. Socks\n",
      "./data/images/078/0783707067.jpg\n",
      "../dataset_fashion/gen_socks_sameprompt\\76084.jpg\n",
      "jacquard-knit cotton elasticated tops. Socks\n",
      "./data/images/078/0783707068.jpg\n",
      "../dataset_fashion/gen_socks_sameprompt\\76085.jpg\n",
      "Socks in jacquard-knit cotton with elasticated tops. Socks\n",
      "./data/images/078/0783707069.jpg\n",
      "../dataset_fashion/gen_socks_sameprompt\\76086.jpg\n",
      "Socks in a soft, blend with tops. Socks\n",
      "./data/images/078/0783707070.jpg\n",
      "../dataset_fashion/gen_socks_sameprompt\\76087.jpg\n",
      "Socks a soft, jacquard-knit blend with elasticated tops. Socks\n",
      "./data/images/078/0783707078.jpg\n",
      "../dataset_fashion/gen_socks_sameprompt\\76088.jpg\n",
      "Socks in a soft, cotton blend with tops. Socks\n",
      "./data/images/078/0783707079.jpg\n",
      "../dataset_fashion/gen_socks_sameprompt\\76089.jpg\n",
      "Socks in soft, jacquard-knit blend with elasticated tops. Socks\n",
      "./data/images/078/0783707080.jpg\n",
      "../dataset_fashion/gen_socks_sameprompt\\76090.jpg\n",
      "Socks in a soft, jacquard-knit cotton blend with elasticated tops. Socks\n",
      "./data/images/078/0783707081.jpg\n",
      "../dataset_fashion/gen_socks_sameprompt\\76091.jpg\n",
      "Socks a jacquard-knit cotton blend with elasticated tops. Socks\n",
      "./data/images/078/0783707082.jpg\n",
      "../dataset_fashion/gen_socks_sameprompt\\76092.jpg\n",
      "in jacquard-knit cotton blend with elasticated tops. Socks\n",
      "./data/images/078/0783707084.jpg\n",
      "../dataset_fashion/gen_socks_sameprompt\\76093.jpg\n",
      "Socks in soft, jacquard-knit cotton blend with elasticated tops. Socks\n",
      "./data/images/078/0783707085.jpg\n",
      "../dataset_fashion/gen_socks_sameprompt\\76094.jpg\n",
      "Socks in a blend with tops. Socks\n",
      "./data/images/078/0783707086.jpg\n",
      "../dataset_fashion/gen_socks_sameprompt\\76095.jpg\n",
      "in a jacquard-knit with elasticated tops. Socks\n",
      "./data/images/078/0783707087.jpg\n",
      "../dataset_fashion/gen_socks_sameprompt\\76096.jpg\n",
      "Socks in a jacquard-knit with tops. Socks\n",
      "./data/images/078/0783707089.jpg\n",
      "../dataset_fashion/gen_socks_sameprompt\\76097.jpg\n",
      "Socks a jacquard-knit cotton blend with tops. Socks\n",
      "./data/images/078/0783707091.jpg\n",
      "../dataset_fashion/gen_socks_sameprompt\\76098.jpg\n",
      "Socks in a soft, blend with elasticated tops. Socks\n",
      "./data/images/078/0783707093.jpg\n",
      "../dataset_fashion/gen_socks_sameprompt\\76099.jpg\n",
      "Socks a jacquard-knit cotton blend elasticated tops. Socks\n",
      "./data/images/078/0783707096.jpg\n",
      "../dataset_fashion/gen_socks_sameprompt\\76100.jpg\n",
      "Socks a soft, with elasticated tops. Socks\n",
      "./data/images/078/0783707097.jpg\n",
      "../dataset_fashion/gen_socks_sameprompt\\76101.jpg\n",
      "in a soft, jacquard-knit blend with elasticated tops. Socks\n",
      "./data/images/078/0783707105.jpg\n",
      "../dataset_fashion/gen_socks_sameprompt\\76102.jpg\n",
      "Socks in jacquard-knit cotton tops. Socks\n",
      "./data/images/078/0783707106.jpg\n",
      "../dataset_fashion/gen_socks_sameprompt\\76103.jpg\n",
      "in soft, cotton with tops. Socks\n",
      "./data/images/078/0783707109.jpg\n",
      "../dataset_fashion/gen_socks_sameprompt\\76104.jpg\n",
      "Socks in a soft, jacquard-knit cotton blend with elasticated tops. Socks\n",
      "./data/images/078/0783707110.jpg\n",
      "../dataset_fashion/gen_socks_sameprompt\\76105.jpg\n",
      "Socks a soft, cotton with tops. Socks\n",
      "./data/images/078/0783707111.jpg\n",
      "../dataset_fashion/gen_socks_sameprompt\\76106.jpg\n",
      "Socks in a soft, jacquard-knit blend elasticated tops. Socks\n",
      "./data/images/078/0783707112.jpg\n",
      "../dataset_fashion/gen_socks_sameprompt\\76107.jpg\n",
      "Socks in a soft, cotton with elasticated tops. Socks\n",
      "./data/images/078/0783707116.jpg\n",
      "../dataset_fashion/gen_socks_sameprompt\\76108.jpg\n",
      "in soft, cotton blend with elasticated tops. Socks\n",
      "./data/images/078/0783707122.jpg\n",
      "../dataset_fashion/gen_socks_sameprompt\\76109.jpg\n",
      "Socks in a soft, jacquard-knit cotton with tops. Socks\n",
      "./data/images/078/0783707123.jpg\n",
      "../dataset_fashion/gen_socks_sameprompt\\76110.jpg\n",
      "Socks in a soft, jacquard-knit cotton with tops. Socks\n",
      "./data/images/078/0783707143.jpg\n",
      "../dataset_fashion/gen_socks_sameprompt\\76111.jpg\n",
      "Socks in a soft, cotton blend with elasticated tops. Socks\n",
      "./data/images/078/0783707146.jpg\n",
      "../dataset_fashion/gen_socks_sameprompt\\76112.jpg\n",
      "in a jacquard-knit elasticated tops. Socks\n",
      "./data/images/078/0783707147.jpg\n",
      "../dataset_fashion/gen_socks_sameprompt\\76113.jpg\n",
      "Socks in a soft, jacquard-knit blend elasticated tops. Socks\n",
      "./data/images/078/0783707150.jpg\n",
      "../dataset_fashion/gen_socks_sameprompt\\76114.jpg\n",
      "a soft, cotton with elasticated. Socks\n",
      "./data/images/078/0783707151.jpg\n",
      "../dataset_fashion/gen_socks_sameprompt\\76115.jpg\n",
      "a jacquard-knit blend with elasticated tops. Socks\n",
      "./data/images/078/0783707152.jpg\n",
      "../dataset_fashion/gen_socks_sameprompt\\76116.jpg\n",
      "Socks in a soft, cotton blend elasticated tops. Socks\n",
      "./data/images/078/0783707159.jpg\n",
      "../dataset_fashion/gen_socks_sameprompt\\76117.jpg\n",
      "Socks in a jacquard-knit cotton elasticated. Socks\n",
      "./data/images/078/0783707163.jpg\n",
      "../dataset_fashion/gen_socks_sameprompt\\76118.jpg\n",
      "Socks jacquard-knit cotton blend with tops. Socks\n",
      "./data/images/078/0783707164.jpg\n",
      "../dataset_fashion/gen_socks_sameprompt\\76119.jpg\n",
      "Socks in soft, cotton blend with elasticated tops. Socks\n",
      "./data/images/078/0783707167.jpg\n",
      "../dataset_fashion/gen_socks_sameprompt\\76120.jpg\n",
      "Socks in a soft, jacquard-knit cotton blend with tops. Socks\n",
      "./data/images/078/0783707168.jpg\n",
      "../dataset_fashion/gen_socks_sameprompt\\76121.jpg\n",
      "in a soft, jacquard-knit cotton blend with tops. Socks\n",
      "./data/images/080/0807239005.jpg\n",
      "../dataset_fashion/gen_socks_sameprompt\\82040.jpg\n",
      "in a soft, blend. Socks\n",
      "./data/images/080/0807241001.jpg\n",
      "../dataset_fashion/gen_socks_sameprompt\\82041.jpg\n",
      "Socks in a jacquard-knit cotton blend. Socks\n",
      "./data/images/080/0807241005.jpg\n",
      "../dataset_fashion/gen_socks_sameprompt\\82042.jpg\n",
      "Socks in cotton with elasticated tops. Socks\n",
      "./data/images/080/0807241007.jpg\n",
      "../dataset_fashion/gen_socks_sameprompt\\82043.jpg\n",
      "a soft, jacquard-knit cotton with elasticated. Socks\n",
      "./data/images/080/0807241012.jpg\n",
      "../dataset_fashion/gen_socks_sameprompt\\82044.jpg\n",
      "Socks in a soft, jacquard-knit cotton with elasticated. Socks\n",
      "./data/images/080/0807241015.jpg\n",
      "../dataset_fashion/gen_socks_sameprompt\\82045.jpg\n",
      "Socks in a soft, jacquard-knit elasticated tops. Socks\n",
      "./data/images/080/0807241016.jpg\n",
      "../dataset_fashion/gen_socks_sameprompt\\82046.jpg\n",
      "in a soft, jacquard-knit blend with elasticated tops. Socks\n",
      "./data/images/080/0807241017.jpg\n",
      "../dataset_fashion/gen_socks_sameprompt\\82047.jpg\n",
      "Socks in soft, jacquard-knit cotton tops. Socks\n",
      "./data/images/080/0807241018.jpg\n",
      "../dataset_fashion/gen_socks_sameprompt\\82048.jpg\n",
      "Socks a soft, jacquard-knit cotton blend with tops. Socks\n",
      "./data/images/080/0807241019.jpg\n",
      "../dataset_fashion/gen_socks_sameprompt\\82049.jpg\n",
      "Socks in a soft, cotton elasticated tops. Socks\n",
      "./data/images/080/0807241020.jpg\n",
      "../dataset_fashion/gen_socks_sameprompt\\82050.jpg\n",
      "in a jacquard-knit cotton blend elasticated tops. Socks\n",
      "./data/images/080/0807241022.jpg\n",
      "../dataset_fashion/gen_socks_sameprompt\\82051.jpg\n",
      "Socks a jacquard-knit blend with elasticated. Socks\n",
      "./data/images/080/0807241026.jpg\n",
      "../dataset_fashion/gen_socks_sameprompt\\82052.jpg\n",
      "Socks in a soft, jacquard-knit cotton blend with elasticated tops. Socks\n",
      "./data/images/080/0807241027.jpg\n",
      "../dataset_fashion/gen_socks_sameprompt\\82053.jpg\n",
      "Socks a soft, jacquard-knit blend with elasticated. Socks\n",
      "./data/images/080/0807241030.jpg\n",
      "../dataset_fashion/gen_socks_sameprompt\\82054.jpg\n",
      "Socks in a soft, jacquard-knit cotton with elasticated. Socks\n",
      "./data/images/080/0807241032.jpg\n",
      "../dataset_fashion/gen_socks_sameprompt\\82055.jpg\n",
      "in a soft, jacquard-knit cotton blend elasticated tops. Socks\n",
      "./data/images/080/0807241033.jpg\n",
      "../dataset_fashion/gen_socks_sameprompt\\82056.jpg\n",
      "a soft, jacquard-knit cotton blend with elasticated tops. Socks\n",
      "./data/images/080/0807241034.jpg\n",
      "../dataset_fashion/gen_socks_sameprompt\\82057.jpg\n",
      "in a soft, jacquard-knit cotton with elasticated. Socks\n",
      "./data/images/080/0807241037.jpg\n",
      "../dataset_fashion/gen_socks_sameprompt\\82058.jpg\n",
      "in soft, cotton with elasticated tops. Socks\n",
      "./data/images/080/0807241039.jpg\n",
      "../dataset_fashion/gen_socks_sameprompt\\82059.jpg\n",
      "in a soft, blend with elasticated tops. Socks\n",
      "./data/images/080/0807241046.jpg\n",
      "../dataset_fashion/gen_socks_sameprompt\\82060.jpg\n",
      "Socks a jacquard-knit cotton blend. Socks\n",
      "./data/images/080/0807241051.jpg\n",
      "../dataset_fashion/gen_socks_sameprompt\\82062.jpg\n",
      "a cotton blend with tops. Socks\n",
      "./data/images/080/0807241052.jpg\n",
      "../dataset_fashion/gen_socks_sameprompt\\82063.jpg\n",
      "a jacquard-knit cotton blend with tops. Socks\n",
      "./data/images/080/0807241054.jpg\n",
      "../dataset_fashion/gen_socks_sameprompt\\82064.jpg\n",
      "Socks in a jacquard-knit blend with tops. Socks\n",
      "./data/images/080/0807241057.jpg\n",
      "../dataset_fashion/gen_socks_sameprompt\\82066.jpg\n",
      "in a soft, jacquard-knit cotton. Socks\n",
      "./data/images/080/0807241059.jpg\n",
      "../dataset_fashion/gen_socks_sameprompt\\82068.jpg\n",
      "Socks in a jacquard-knit cotton with elasticated. Socks\n",
      "./data/images/080/0807241062.jpg\n",
      "../dataset_fashion/gen_socks_sameprompt\\82071.jpg\n",
      "Socks in soft, jacquard-knit cotton blend with elasticated tops. Socks\n",
      "./data/images/080/0807241066.jpg\n",
      "../dataset_fashion/gen_socks_sameprompt\\82073.jpg\n",
      "in a soft, cotton tops. Socks\n",
      "./data/images/080/0807241068.jpg\n",
      "../dataset_fashion/gen_socks_sameprompt\\82075.jpg\n",
      "Socks in soft, jacquard-knit cotton with elasticated tops. Socks\n",
      "./data/images/080/0807242017.jpg\n",
      "../dataset_fashion/gen_socks_sameprompt\\82079.jpg\n",
      "a soft, jacquard-knit cotton with elasticated tops. Socks\n",
      "./data/images/080/0807242018.jpg\n",
      "../dataset_fashion/gen_socks_sameprompt\\82080.jpg\n",
      "Socks in soft, cotton blend with elasticated tops. Socks\n",
      "./data/images/080/0807242020.jpg\n",
      "../dataset_fashion/gen_socks_sameprompt\\82081.jpg\n",
      "Socks in soft, jacquard-knit cotton blend with tops. Socks\n",
      "./data/images/084/0842976001.jpg\n",
      "../dataset_fashion/gen_socks_sameprompt\\90402.jpg\n",
      "soft, jacquard-knit blend with tops. Socks\n",
      "./data/images/084/0842976002.jpg\n",
      "../dataset_fashion/gen_socks_sameprompt\\90403.jpg\n",
      "Socks in a soft, jacquard-knit cotton blend elasticated tops. Socks\n",
      "./data/images/084/0842976005.jpg\n",
      "../dataset_fashion/gen_socks_sameprompt\\90404.jpg\n",
      "a soft, jacquard-knit cotton with tops. Socks\n"
     ]
    }
   ],
   "source": [
    "for orig_path, gen_path, prompt in gen:\n",
    "    print(orig_path)\n",
    "    print(gen_path)\n",
    "    print(prompt)"
   ]
  },
  {
   "cell_type": "code",
   "execution_count": 66,
   "metadata": {},
   "outputs": [
    {
     "data": {
      "text/plain": [
       "['./data/images/074/0745256007.jpg',\n",
       " './data/images/078/0783707002.jpg',\n",
       " './data/images/078/0783707004.jpg',\n",
       " './data/images/078/0783707005.jpg',\n",
       " './data/images/078/0783707012.jpg',\n",
       " './data/images/078/0783707015.jpg',\n",
       " './data/images/078/0783707019.jpg',\n",
       " './data/images/078/0783707021.jpg',\n",
       " './data/images/078/0783707026.jpg',\n",
       " './data/images/078/0783707028.jpg',\n",
       " './data/images/078/0783707029.jpg',\n",
       " './data/images/078/0783707030.jpg',\n",
       " './data/images/078/0783707031.jpg',\n",
       " './data/images/078/0783707032.jpg',\n",
       " './data/images/078/0783707033.jpg',\n",
       " './data/images/078/0783707034.jpg',\n",
       " './data/images/078/0783707036.jpg',\n",
       " './data/images/078/0783707037.jpg',\n",
       " './data/images/078/0783707038.jpg',\n",
       " './data/images/078/0783707039.jpg',\n",
       " './data/images/078/0783707041.jpg',\n",
       " './data/images/078/0783707043.jpg',\n",
       " './data/images/078/0783707045.jpg',\n",
       " './data/images/078/0783707046.jpg',\n",
       " './data/images/078/0783707047.jpg',\n",
       " './data/images/078/0783707048.jpg',\n",
       " './data/images/078/0783707049.jpg',\n",
       " './data/images/078/0783707050.jpg',\n",
       " './data/images/078/0783707056.jpg',\n",
       " './data/images/078/0783707057.jpg',\n",
       " './data/images/078/0783707063.jpg',\n",
       " './data/images/078/0783707064.jpg',\n",
       " './data/images/078/0783707065.jpg',\n",
       " './data/images/078/0783707066.jpg',\n",
       " './data/images/078/0783707067.jpg',\n",
       " './data/images/078/0783707068.jpg',\n",
       " './data/images/078/0783707069.jpg',\n",
       " './data/images/078/0783707070.jpg',\n",
       " './data/images/078/0783707078.jpg',\n",
       " './data/images/078/0783707079.jpg',\n",
       " './data/images/078/0783707080.jpg',\n",
       " './data/images/078/0783707081.jpg',\n",
       " './data/images/078/0783707082.jpg',\n",
       " './data/images/078/0783707084.jpg',\n",
       " './data/images/078/0783707085.jpg',\n",
       " './data/images/078/0783707086.jpg',\n",
       " './data/images/078/0783707087.jpg',\n",
       " './data/images/078/0783707089.jpg',\n",
       " './data/images/078/0783707091.jpg',\n",
       " './data/images/078/0783707093.jpg',\n",
       " './data/images/078/0783707096.jpg',\n",
       " './data/images/078/0783707097.jpg',\n",
       " './data/images/078/0783707105.jpg',\n",
       " './data/images/078/0783707106.jpg',\n",
       " './data/images/078/0783707109.jpg',\n",
       " './data/images/078/0783707110.jpg',\n",
       " './data/images/078/0783707111.jpg',\n",
       " './data/images/078/0783707112.jpg',\n",
       " './data/images/078/0783707116.jpg',\n",
       " './data/images/078/0783707122.jpg',\n",
       " './data/images/078/0783707123.jpg',\n",
       " './data/images/078/0783707143.jpg',\n",
       " './data/images/078/0783707146.jpg',\n",
       " './data/images/078/0783707147.jpg',\n",
       " './data/images/078/0783707150.jpg',\n",
       " './data/images/078/0783707151.jpg',\n",
       " './data/images/078/0783707152.jpg',\n",
       " './data/images/078/0783707159.jpg',\n",
       " './data/images/078/0783707163.jpg',\n",
       " './data/images/078/0783707164.jpg',\n",
       " './data/images/078/0783707167.jpg',\n",
       " './data/images/078/0783707168.jpg',\n",
       " './data/images/080/0807239005.jpg',\n",
       " './data/images/080/0807241001.jpg',\n",
       " './data/images/080/0807241005.jpg',\n",
       " './data/images/080/0807241007.jpg',\n",
       " './data/images/080/0807241012.jpg',\n",
       " './data/images/080/0807241015.jpg',\n",
       " './data/images/080/0807241016.jpg',\n",
       " './data/images/080/0807241017.jpg',\n",
       " './data/images/080/0807241018.jpg',\n",
       " './data/images/080/0807241019.jpg',\n",
       " './data/images/080/0807241020.jpg',\n",
       " './data/images/080/0807241022.jpg',\n",
       " './data/images/080/0807241026.jpg',\n",
       " './data/images/080/0807241027.jpg',\n",
       " './data/images/080/0807241030.jpg',\n",
       " './data/images/080/0807241032.jpg',\n",
       " './data/images/080/0807241033.jpg',\n",
       " './data/images/080/0807241034.jpg',\n",
       " './data/images/080/0807241037.jpg',\n",
       " './data/images/080/0807241039.jpg',\n",
       " './data/images/080/0807241046.jpg',\n",
       " './data/images/080/0807241051.jpg',\n",
       " './data/images/080/0807241052.jpg',\n",
       " './data/images/080/0807241054.jpg',\n",
       " './data/images/080/0807241057.jpg',\n",
       " './data/images/080/0807241059.jpg',\n",
       " './data/images/080/0807241062.jpg',\n",
       " './data/images/080/0807241066.jpg',\n",
       " './data/images/080/0807241068.jpg',\n",
       " './data/images/080/0807242017.jpg',\n",
       " './data/images/080/0807242018.jpg',\n",
       " './data/images/080/0807242020.jpg',\n",
       " './data/images/084/0842976001.jpg',\n",
       " './data/images/084/0842976002.jpg',\n",
       " './data/images/084/0842976005.jpg']"
      ]
     },
     "execution_count": 66,
     "metadata": {},
     "output_type": "execute_result"
    }
   ],
   "source": [
    "original_img_path"
   ]
  },
  {
   "cell_type": "markdown",
   "metadata": {},
   "source": [
    "----------"
   ]
  },
  {
   "cell_type": "code",
   "execution_count": 21,
   "metadata": {},
   "outputs": [],
   "source": [
    "A_norm = original_embedding_tensor / torch.norm(original_embedding_tensor, dim=1, keepdim=True)\n",
    "B_norm = gen_embeddings_1 / torch.norm(gen_embeddings_1, dim=1, keepdim=True)\n",
    "\n",
    "cosine_similarity_matrix = torch.mm(B_norm, A_norm.t())\n",
    "index_most_sim = cosine_similarity_matrix.argmax(dim=1)"
   ]
  },
  {
   "cell_type": "code",
   "execution_count": 22,
   "metadata": {},
   "outputs": [
    {
     "name": "stderr",
     "output_type": "stream",
     "text": [
      "100%|██████████| 62732/62732 [00:05<00:00, 10795.25it/s]\n"
     ]
    }
   ],
   "source": [
    "sim_argsort = []\n",
    "for i, row in enumerate(tqdm(cosine_similarity_matrix)):\n",
    "    sim_argsort.append(row.argsort(descending=True)[:40].type(torch.int32))\n",
    "    if i%1000 == 1:\n",
    "        torch.cuda.empty_cache()"
   ]
  },
  {
   "cell_type": "code",
   "execution_count": 23,
   "metadata": {},
   "outputs": [],
   "source": [
    "sim_argsort = torch.stack(sim_argsort)"
   ]
  },
  {
   "cell_type": "code",
   "execution_count": 24,
   "metadata": {},
   "outputs": [
    {
     "data": {
      "text/plain": [
       "tensor([[59435, 17975,  6696,  ..., 11642, 23366, 53898],\n",
       "        [52100,     0, 41886,  ..., 58804,  1380, 24462],\n",
       "        [62031, 40287, 58303,  ..., 13359, 62694, 30304],\n",
       "        ...,\n",
       "        [20521, 20032, 22029,  ..., 62717, 23301, 44135],\n",
       "        [53021, 31547,  8912,  ...,  8918,  4398,  7182],\n",
       "        [ 6525, 60975, 51949,  ..., 58397, 61103, 50144]], device='cuda:0',\n",
       "       dtype=torch.int32)"
      ]
     },
     "execution_count": 24,
     "metadata": {},
     "output_type": "execute_result"
    }
   ],
   "source": [
    "sim_argsort"
   ]
  },
  {
   "cell_type": "code",
   "execution_count": 25,
   "metadata": {},
   "outputs": [],
   "source": [
    "in_40 = []\n",
    "for i in range(sim_argsort.size()[0]):\n",
    "    in_40.append(i in sim_argsort[i])"
   ]
  },
  {
   "cell_type": "code",
   "execution_count": 60,
   "metadata": {},
   "outputs": [
    {
     "data": {
      "text/plain": [
       "0.2113913154370975"
      ]
     },
     "execution_count": 60,
     "metadata": {},
     "output_type": "execute_result"
    }
   ],
   "source": [
    "sum(in_40) / len(in_40)"
   ]
  },
  {
   "cell_type": "code",
   "execution_count": 26,
   "metadata": {},
   "outputs": [],
   "source": [
    "target_idx = 1890 # generated image index\n",
    "# target_idx = 1\n",
    "target_emb_indices = sim_argsort[target_idx][:10]\n",
    "target_img_ids = np.array(gen_ids_hasimg)[target_emb_indices.cpu().numpy()]\n",
    "query_img_id = gen_ids_hasimg[target_idx]"
   ]
  },
  {
   "cell_type": "code",
   "execution_count": 27,
   "metadata": {},
   "outputs": [
    {
     "data": {
      "text/plain": [
       "array(['554011001', '566941012', '554011005', '685604045', '685604050',\n",
       "       '554011011', '453309008', '566942004', '453453020', '581859006'],\n",
       "      dtype='<U9')"
      ]
     },
     "execution_count": 27,
     "metadata": {},
     "output_type": "execute_result"
    }
   ],
   "source": [
    "target_img_ids"
   ]
  },
  {
   "cell_type": "code",
   "execution_count": 28,
   "metadata": {},
   "outputs": [
    {
     "ename": "NameError",
     "evalue": "name 'target_img_id' is not defined",
     "output_type": "error",
     "traceback": [
      "\u001b[1;31m---------------------------------------------------------------------------\u001b[0m",
      "\u001b[1;31mNameError\u001b[0m                                 Traceback (most recent call last)",
      "Cell \u001b[1;32mIn[28], line 1\u001b[0m\n\u001b[1;32m----> 1\u001b[0m \u001b[43mtarget_img_id\u001b[49m, query_img_id\n",
      "\u001b[1;31mNameError\u001b[0m: name 'target_img_id' is not defined"
     ]
    }
   ],
   "source": [
    "target_img_id, query_img_id"
   ]
  },
  {
   "cell_type": "code",
   "execution_count": 29,
   "metadata": {},
   "outputs": [
    {
     "data": {
      "image/png": "[encoded data removed]",
      "text/plain": [
       "<Figure size 2000x1000 with 11 Axes>"
      ]
     },
     "metadata": {},
     "output_type": "display_data"
    }
   ],
   "source": [
    "from PIL import Image\n",
    "import matplotlib.pyplot as plt\n",
    "\n",
    "plt.figure(figsize=(20, 10))\n",
    "for i, target_img_id in enumerate(target_img_ids):\n",
    "    plt.subplot(2, 10, i+1)\n",
    "    plt.imshow(Image.open(f\"./data/images/{'0'+target_img_id[:2]}/{'0'+target_img_id+'.jpg'}\"))\n",
    "plt.subplot(2, 10, len(target_img_ids)+1)\n",
    "plt.imshow(Image.open(f\"../dataset_fashion/images/{query_img_id}/{query_img_id+'_0.jpg'}\"))\n",
    "plt.show()"
   ]
  },
  {
   "cell_type": "markdown",
   "metadata": {},
   "source": [
    "--------------"
   ]
  }
 ],
 "metadata": {
  "kernelspec": {
   "display_name": "mlenv",
   "language": "python",
   "name": "python3"
  },
  "language_info": {
   "codemirror_mode": {
    "name": "ipython",
    "version": 3
   },
   "file_extension": ".py",
   "mimetype": "text/x-python",
   "name": "python",
   "nbconvert_exporter": "python",
   "pygments_lexer": "ipython3",
   "version": "3.10.13"
  }
 },
 "nbformat": 4,
 "nbformat_minor": 2
}
